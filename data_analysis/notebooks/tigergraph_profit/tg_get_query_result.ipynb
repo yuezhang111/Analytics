{
 "cells": [
  {
   "cell_type": "code",
   "execution_count": 17,
   "id": "6fe1080e-14c3-404b-9d39-67751115f3ba",
   "metadata": {},
   "outputs": [
    {
     "name": "stdout",
     "output_type": "stream",
     "text": [
      "148.251.53.212 9000 data_analyst\n",
      "tigergraph.destill.io 14240 data_analyst\n"
     ]
    }
   ],
   "source": [
    "import os\n",
    "import json\n",
    "import pymysql\n",
    "import logging\n",
    "import requests\n",
    "from loguru import logger\n",
    "from requests.auth import HTTPBasicAuth\n",
    "from dotenv import load_dotenv\n",
    "load_dotenv()\n",
    "\n",
    "tg_test_host = os.getenv(\"TIGERGRAPH_TEST_HOST\")\n",
    "tg_test_rest_port = os.getenv(\"TIGERGRAPH_TEST_REST_SERVER_PORT\")\n",
    "tg_username = os.getenv(\"TIGERGRAPH_USERNAME\")\n",
    "tg_password = os.getenv(\"TIGERGRAPH_PASSWORD\")\n",
    "\n",
    "tg_prod_host = os.getenv(\"TIGERGRAPH_PROD_HOST\")\n",
    "tg_prod_gsql_port = os.getenv(\"TIGERGRAPH_PROD_GSQL_SERVER_PORT\")\n",
    "\n",
    "graph_name = \"nft_profit\"\n",
    "\n",
    "print(tg_test_host,tg_test_rest_port,tg_username)\n",
    "print(tg_prod_host,tg_prod_gsql_port,tg_username)\n",
    "\n",
    "\n",
    "def check_and_parse(result: requests.Response):\n",
    "    if result.status_code != 200:\n",
    "        logger.error(\"code: {}, body: {}\", result.status_code, result.text)\n",
    "        raise Exception(result.status_code)\n",
    "    data = json.loads(result.text, strict=False)\n",
    "    x = data.get('error', False)\n",
    "    if x == 'false':\n",
    "        x = False\n",
    "    if x:\n",
    "        raise Exception(result.text)\n",
    "    return data\n",
    "\n",
    "# request token\n",
    "# url = 'http://{}:{}/requesttoken'.format(tg_test_host, tg_test_rest_port)\n",
    "# url = 'http://{}:{}/requesttoken'.format(tg_prod_host, 9000)\n",
    "# print(url)\n",
    "# data = {'graph': graph_name}\n",
    "# result = requests.post(url, json=data, auth=HTTPBasicAuth(tg_username, tg_password))\n",
    "# result = check_and_parse(result)\n",
    "# token = result['results']['token']\n",
    "# token_expiration_ts = result['expiration']\n",
    "# print(token,token_expiration_ts)\n",
    "\n",
    "\n",
    "# 148.251.53.212 9000 data_analyst\n",
    "# tigergraph.destill.io 14240 data_analyst\n",
    "\n",
    "\n",
    "# jmbg1bt2bmrm997auoiif56bklrutu2o 1672224908"
   ]
  },
  {
   "cell_type": "code",
   "execution_count": 10,
   "id": "77e07431-d260-4f86-807c-079e72bfb6f3",
   "metadata": {},
   "outputs": [
    {
     "name": "stdout",
     "output_type": "stream",
     "text": [
      "[{'\"test works!\"': 'test works!'}]\n"
     ]
    }
   ],
   "source": [
    "# run tigergraph test gsql query\n",
    "# url = \"http://{}:{}/query/nft_profit/test\".format(tg_test_host,tg_test_rest_port)\n",
    "# headers = {\n",
    "#     'Authorization': 'Bearer {}'.format(token)\n",
    "# }\n",
    "# result = requests.post(url, headers=headers)\n",
    "# result = check_and_parse(result)\n",
    "# print(result['results'])\n",
    "\n",
    "\n",
    "# run tigergraph prod gsql query\n",
    "url = \n",
    "\"\"\"\n",
    "https://tigergraph.destill.io:14240/restpp/query/nft_profit/nft_profit_calculation_test?address=\"\"\n",
    "\"\"\""
   ]
  }
 ],
 "metadata": {
  "kernelspec": {
   "display_name": "Python 3 (ipykernel)",
   "language": "python",
   "name": "python3"
  },
  "language_info": {
   "codemirror_mode": {
    "name": "ipython",
    "version": 3
   },
   "file_extension": ".py",
   "mimetype": "text/x-python",
   "name": "python",
   "nbconvert_exporter": "python",
   "pygments_lexer": "ipython3",
   "version": "3.9.12"
  }
 },
 "nbformat": 4,
 "nbformat_minor": 5
}
