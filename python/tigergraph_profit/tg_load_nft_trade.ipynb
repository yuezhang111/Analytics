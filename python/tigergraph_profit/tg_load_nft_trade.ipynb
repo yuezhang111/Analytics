{
 "cells": [
  {
   "cell_type": "markdown",
   "id": "7c8f6bac-2c97-405b-8728-adad58399683",
   "metadata": {},
   "source": [
    "# Step1: Read RawData From Doris"
   ]
  },
  {
   "cell_type": "code",
   "execution_count": 44,
   "id": "48e06f95-164b-4570-83dc-4573c90460e4",
   "metadata": {},
   "outputs": [
    {
     "data": {
      "text/plain": [
       "['from_address',\n",
       " 'to_address',\n",
       " 'txn_hash',\n",
       " 'block_number',\n",
       " 'log_index',\n",
       " 'buyer_pay_amt',\n",
       " 'seller_receive_amt',\n",
       " 'token_address',\n",
       " 'token_ids',\n",
       " 'token_num',\n",
       " 'trade_type']"
      ]
     },
     "execution_count": 44,
     "metadata": {},
     "output_type": "execute_result"
    }
   ],
   "source": [
    "import os\n",
    "import pymysql\n",
    "import logging\n",
    "import pandas as pd\n",
    "from dotenv import load_dotenv\n",
    "load_dotenv()\n",
    "\n",
    "import sys\n",
    "sys.path.append('Documents/enlighten/analytics/python/tigergraph_profit')\n",
    "from db_client import DorisClient\n",
    "\n",
    "mysql_host = os.getenv(\"mysql_host\")\n",
    "mysql_prot = os.getenv(\"mysql_prot\")\n",
    "mysql_user = os.getenv(\"mysql_user\")\n",
    "mysql_pd = os.getenv(\"mysql_pd\")\n",
    "\n",
    "\n",
    "def get_nft_trade(start_block,end_block):\n",
    "    sql = \"\"\"\n",
    "            select from_address,to_address\n",
    "                ,transaction_hash as txn_hash\n",
    "                ,block_number\n",
    "                ,log_index\n",
    "                ,trade_eth_value as buyer_pay_amt\n",
    "                ,seller_receive_amount as seller_receive_amt\n",
    "                ,token_address\n",
    "                ,token_ids\n",
    "                ,token_num\n",
    "                ,1 as trade_type\n",
    "                ,trade_time\n",
    "                ,case when category = 'sell offer' then 1\n",
    "                      when category = 'buy offer' then 2\n",
    "                 else 0 end as trade_category\n",
    "                ,gas_cost\n",
    "            from dw.dwb_nft_trade_eth_detail_hi\n",
    "            where block_number > {start_block}\n",
    "            and block_number < {end_block}\n",
    "\n",
    "            union all\n",
    "            select \"0x0000000000000000000000000000000000000000\" as from_address\n",
    "                ,account_address as to_address\n",
    "                ,transaction_hash as txn_hash\n",
    "                ,block_number\n",
    "                ,log_index\n",
    "                ,(gas_cost+mint_cost) as buyer_pay_amt\n",
    "                ,mint_cost as seller_receive_amt\n",
    "                ,token_address\n",
    "                ,token_id as token_ids\n",
    "                ,mint_amount as token_num\n",
    "                ,2 as trade_type\n",
    "                ,trade_time\n",
    "                ,0 as trade_category\n",
    "                ,gas_cost\n",
    "            from dw.dwb_nft_mint_detail_eth_hi\n",
    "            where block_number > {start_block}\n",
    "            and block_number < {start_block}\n",
    "        \"\"\".format(\n",
    "            start_block = start_block,\n",
    "            end_block = end_block\n",
    "        )\n",
    "    doris = DorisClient(mysql_host,mysql_prot,mysql_user,mysql_pd)\n",
    "    res,fields = doris.read_sql(sql)\n",
    "    return res,fields\n",
    "\n",
    "def get_nft_transfer(start_block,end_block):\n",
    "    sql = \"\"\"\n",
    "        select a.from_address,a.to_address\n",
    "            ,a.transaction_hash as txn_hash\n",
    "            ,a.block_number\n",
    "            ,a.log_index\n",
    "            ,0 as buyer_pay_amt\n",
    "            ,0 as seller_receive_amt\n",
    "            ,a.token_address\n",
    "            ,a.token_id\n",
    "            ,a.token_num\n",
    "            ,row_number() over(partition by a.transaction_hash order by a.log_index asc) as index_in_log\n",
    "            ,0 as trade_type\n",
    "            ,from_unixtime(b.timestamp) as trade_time\n",
    "            ,0 as trade_category\n",
    "            ,(effective_gas_price * t.gas_used/ POWER(10.0, 18)) / count() over(partition by a.transaction_hash) as gas_cost\n",
    "        FROM  prod.nft_transfer_eth as a\n",
    "        left join prod.blocks as b\n",
    "        on a.block_number = b.block_number\n",
    "        and b.`chain` = 'eth'\n",
    "        left join prod.transactions_eth t\n",
    "        on t.block_number > {start_block} and t.block_number < {end_block}\n",
    "        and t.block_number = a.block_number and t.transaction_hash = a.transaction_hash\n",
    "        where a.block_number > {start_block}\n",
    "        and a.block_number < {end_block}\n",
    "    \"\"\".format(\n",
    "        start_block = start_block,\n",
    "        end_block = end_block\n",
    "    )\n",
    "    doris = DorisClient(mysql_host,mysql_prot,mysql_user,mysql_pd)\n",
    "    res,fields = doris.read_sql(sql)\n",
    "    return res,fields\n",
    "\n",
    "res,fields = get_nft_trade(15400000,15400500)\n",
    "fields"
   ]
  },
  {
   "cell_type": "markdown",
   "id": "dc7ac5d9-def6-4bab-b008-282a985f5af6",
   "metadata": {},
   "source": [
    "# Step2 TigerGraph Client Setup"
   ]
  },
  {
   "cell_type": "code",
   "execution_count": 14,
   "id": "7edbbd3c-29a2-4982-b10a-163062840278",
   "metadata": {},
   "outputs": [],
   "source": [
    "import json\n",
    "import os\n",
    "import requests\n",
    "from requests.auth import HTTPBasicAuth\n",
    "from typing import List\n",
    "from loguru import logger\n",
    "\n",
    "from dotenv import load_dotenv \n",
    "load_dotenv()\n",
    "\n",
    "import sys\n",
    "sys.path.append('Documents/enlighten/analytics/python/tigergraph_profit')\n",
    "from db_client import TgGraphClient\n",
    "\n",
    "tg_server_ip = os.getenv('tg_server_ip')\n",
    "tg_graph_name = 'NFT_Profit_Transfer'\n",
    "tg_username = os.getenv('tg_username')\n",
    "tg_password = os.getenv('tg_password')\n",
    "url = 'http://%s:9000/graph/%s' % (tg_server_ip, tg_graph_name)\n",
    "\n",
    "\n",
    "def get_trade_primary_id(row,field_names):\n",
    "    # get the index of sql output fields\n",
    "    block_number_index = field_names.index(\"block_number\")\n",
    "    log_index = field_names.index(\"log_index\")\n",
    "    token_ids_index = field_names.index(\"token_ids\")\n",
    "    token_num_index = field_names.index(\"token_num\")\n",
    "    buyer_pay_index = field_names.index(\"buyer_pay_amt\")\n",
    "    seller_receive_index = field_names.index(\"seller_receive_amt\")\n",
    "\n",
    "    # update values for bundle sales cases\n",
    "    row = list(row)\n",
    "    token_id_cnt = len(row[token_ids_index].split(\",\"))\n",
    "    if token_id_cnt > 1:\n",
    "        row[buyer_pay_index] = row[buyer_pay_index]/token_id_cnt\n",
    "        row[seller_receive_index] = row[seller_receive_index]/token_id_cnt\n",
    "        row[token_num_index] = row[token_num_index]/token_id_cnt\n",
    "\n",
    "    # bundles sales:one line to multi lines with primiary key\n",
    "    trade_rows = []\n",
    "    for index_in_log in range(token_id_cnt):\n",
    "        primary_id = \"_\".join([\n",
    "            str(row[block_number_index]),\n",
    "            str(row[log_index]),\n",
    "            str(index_in_log)\n",
    "        ])\n",
    "        tmp_row = row + [primary_id]\n",
    "        trade_rows.append(tmp_row)\n",
    "    return trade_rows\n",
    "\n",
    "def get_vertex_entities(formated_row,field_names):\n",
    "    # vertex input format\n",
    "    vertex_dict = {'nft_transfer':{}}\n",
    "    vertex_value_dict = {}\n",
    "    for field in field_names:\n",
    "        field_index = field_names.index(field)\n",
    "        if field == 'token_ids':\n",
    "            token_ids = formated_row[field_index]\n",
    "            index_in_log = int(formated_row[-1].split(\"_\")[2])\n",
    "            token_id_value = token_ids.split(\",\")[index_in_log] if len(token_ids.split(\",\")) > 1 else token_ids\n",
    "            vertex_value_dict['token_id'] = {\n",
    "                'value':token_id_value\n",
    "            }\n",
    "        else:\n",
    "            vertex_value_dict[field] = {\n",
    "                'value':formated_row[field_index]\n",
    "            }\n",
    "    vertex_dict['nft_transfer'][formated_row[-1]] = vertex_value_dict\n",
    "    return vertex_dict\n",
    "\n",
    "def get_edge_entities(formated_row,field_names):\n",
    "    # edge input format\n",
    "    edge_dict = {}\n",
    "    from_address_index = field_names.index(\"from_address\")\n",
    "    to_address_index = field_names.index(\"to_address\")\n",
    "    from_address = formated_row[from_address_index]\n",
    "    to_address = formated_row[to_address_index]\n",
    "    trade_primary_id = formated_row[-1]\n",
    "    print(from_address,to_address,trade_primary_id)\n",
    "    edge_dict[\"account\"] = {from_address:{\"send_nft\":{\"nft_transfer\":{trade_primary_id:{}}}}}\n",
    "    return edge_dict\n",
    "    \n",
    "def insert(entities):\n",
    "    url = 'http://%s:9000/graph/%s' % (tg_server_ip, graph_name)\n",
    "    print(url)\n",
    "    result = requests.post(url, json=entities, auth=HTTPBasicAuth(username,password))\n",
    "    return result"
   ]
  },
  {
   "cell_type": "code",
   "execution_count": 12,
   "id": "4e63df77-a324-4048-bccc-ad2f282187ca",
   "metadata": {},
   "outputs": [
    {
     "data": {
      "text/plain": [
       "['0x154b0c6f694db030225dde4a667f5a6a69a32e5f',\n",
       " '0xfefef682c54d7dc0b7bede523db0a409729be2df',\n",
       " '0xebac1559f3a3b47d5462519f2cb4a8b631bac195b3338c983b8a1a7ee9f94f25',\n",
       " 15449728,\n",
       " 259,\n",
       " 0.015,\n",
       " 0.014624999999999999,\n",
       " '0x4f70d1c9d5c8a57db5acc139915f69d06bd22f49',\n",
       " '3697,3698,3699',\n",
       " 1.0,\n",
       " 1,\n",
       " '15449728_259_0']"
      ]
     },
     "execution_count": 12,
     "metadata": {},
     "output_type": "execute_result"
    }
   ],
   "source": [
    "get_trade_primary_id(res[1],fields)[0]"
   ]
  },
  {
   "cell_type": "code",
   "execution_count": 15,
   "id": "2b6e4032-9a59-43d0-a90a-9c0c24c5bb46",
   "metadata": {},
   "outputs": [
    {
     "name": "stdout",
     "output_type": "stream",
     "text": [
      "0x154b0c6f694db030225dde4a667f5a6a69a32e5f 0xfefef682c54d7dc0b7bede523db0a409729be2df 15449728_259_0\n"
     ]
    },
    {
     "data": {
      "text/plain": [
       "{'account': {'0x154b0c6f694db030225dde4a667f5a6a69a32e5f': {'send_nft': {'nft_transfer': {'15449728_259_0': {}}}}}}"
      ]
     },
     "execution_count": 15,
     "metadata": {},
     "output_type": "execute_result"
    }
   ],
   "source": [
    "get_edge_entities(get_trade_primary_id(res[1],fields)[0],fields)"
   ]
  },
  {
   "cell_type": "markdown",
   "id": "59665888-c633-42ea-bc12-d5a038acaf7e",
   "metadata": {},
   "source": [
    "# Testing"
   ]
  },
  {
   "cell_type": "code",
   "execution_count": 19,
   "id": "61f4aeaa-b427-4281-958e-dadc05230c17",
   "metadata": {},
   "outputs": [
    {
     "name": "stdout",
     "output_type": "stream",
     "text": [
      "{'vertices': {'nft_transfer': {'15400581_457_0': {'from_address': {'value': '0x172870406a9ce670c6b0921f48ff6105742a65a7'}, 'to_address': {'value': '0xd70650cc0e0f9238bcccb14f44db775f9740c9b9'}, 'txn_hash': {'value': '0x43cb328e3fafda603c52123eb14bad9b04ed62fa4c58a0f97960b634c668d068'}, 'block_number': {'value': 15400581}, 'log_index': {'value': 457}, 'buyer_pay_amt': {'value': 0.24}, 'seller_receive_amt': {'value': 0.21}, 'token_address': {'value': '0x8b3c69abc8c588e3eceb2eedf3bccf8fea950241'}, 'token_id': {'value': '392'}, 'token_num': {'value': 1.0}, 'trade_type': {'value': 1}}}}}\n",
      "{'version': {'edition': 'enterprise', 'api': 'v2', 'schema': 27}, 'error': False, 'message': '', 'results': [{'accepted_vertices': 1, 'accepted_edges': 0}], 'code': 'REST-0001'}\n"
     ]
    }
   ],
   "source": [
    "from dotenv import load_dotenv \n",
    "load_dotenv()\n",
    "tg_username = os.getenv(\"tg_username\")\n",
    "tg_password = os.getenv(\"tg_password\")\n",
    "\n",
    "entities_dict = {}\n",
    "entities_dict['vertices'] = get_vertex_entities(get_trade_primary_id(res[1],fields)[0],fields)\n",
    "entities_str = json.dumps(entities_dict)\n",
    "entities = json.loads(entities_str)\n",
    "print(entities)\n",
    "\n",
    "result = requests.post(url, json=entities, auth=HTTPBasicAuth(tg_username,tg_password))\n",
    "data = json.loads(result.text, strict=False)\n",
    "# check_and_parse(data)\n",
    "print(data)"
   ]
  },
  {
   "cell_type": "code",
   "execution_count": 19,
   "id": "334e9345-3268-4c3c-9c5e-5a549a2d764f",
   "metadata": {},
   "outputs": [
    {
     "name": "stdout",
     "output_type": "stream",
     "text": [
      "0x154b0c6f694db030225dde4a667f5a6a69a32e5f 0xfefef682c54d7dc0b7bede523db0a409729be2df 15449728_259_0\n",
      "{'edges': {'account': {'0x154b0c6f694db030225dde4a667f5a6a69a32e5f': {'send_nft': {'nft_transfer': {'15449728_259_0': {}}}}}}}\n",
      "{'version': {'edition': 'enterprise', 'api': 'v2', 'schema': 27}, 'error': False, 'message': '', 'results': [{'accepted_vertices': 0, 'accepted_edges': 1}], 'code': 'REST-0002'}\n"
     ]
    }
   ],
   "source": [
    "from dotenv import load_dotenv \n",
    "load_dotenv()\n",
    "tg_username = os.getenv(\"tg_username\")\n",
    "tg_password = os.getenv(\"tg_password\")\n",
    "\n",
    "edge_dict = {}\n",
    "edge_dict['edges'] = get_edge_entities(get_trade_primary_id(res[1],fields)[0],fields)\n",
    "edge_entities_str = json.dumps(edge_dict)\n",
    "entities = json.loads(edge_entities_str)\n",
    "print(entities)\n",
    "\n",
    "result = requests.post(url, json=entities, auth=HTTPBasicAuth(tg_username,tg_password))\n",
    "data = json.loads(result.text, strict=False)\n",
    "print(data)"
   ]
  },
  {
   "cell_type": "code",
   "execution_count": 32,
   "id": "58bdd629-06e5-4c45-ac8b-f454331dac48",
   "metadata": {},
   "outputs": [
    {
     "data": {
      "text/plain": [
       "{'version': {'edition': 'enterprise', 'api': 'v2', 'schema': 27},\n",
       " 'error': False,\n",
       " 'message': '',\n",
       " 'results': [{'accepted_vertices': 1, 'accepted_edges': 0}],\n",
       " 'code': 'REST-0001'}"
      ]
     },
     "execution_count": 32,
     "metadata": {},
     "output_type": "execute_result"
    }
   ],
   "source": [
    "def check_and_parse(result: requests.Response):\n",
    "    if result.status_code != 200:\n",
    "        logger.error(\"code: {}, body: {}\", result.status_code, result.text)\n",
    "        raise Exception(result.status_code)\n",
    "    data = json.loads(result.text, strict=False)\n",
    "    x = data.get('error', False)\n",
    "    if x == 'false':\n",
    "        x = False\n",
    "    if x:\n",
    "        raise Exception(result.text)\n",
    "    return data\n",
    "\n",
    "check_and_parse"
   ]
  },
  {
   "cell_type": "markdown",
   "id": "b4774237-376d-419c-8c89-793227e5e269",
   "metadata": {},
   "source": [
    "# Main"
   ]
  },
  {
   "cell_type": "code",
   "execution_count": 31,
   "id": "8b8d73ca-9ca2-41b8-a804-c88cbffa38aa",
   "metadata": {},
   "outputs": [
    {
     "name": "stdout",
     "output_type": "stream",
     "text": [
      "(('0x616ed054e0e0fdbfcad3fa2f42daed3d7d4ee448', '0xe76c2e2f45eec562e029d9f139a906a0259ec39d', '0xe4556462c1e1696f4d3ff3e1ea941b9899c5f11abe1dc78ca723c8b7f0d76cb3', 15400006, 189, 0.028, 0.02534, '0x39223e2596bf8e1de3894f66947cacc614c24a2f', '2746', 1, 1), ('0x616ed054e0e0fdbfcad3fa2f42daed3d7d4ee448', '0xe76c2e2f45eec562e029d9f139a906a0259ec39d', '0xe4556462c1e1696f4d3ff3e1ea941b9899c5f11abe1dc78ca723c8b7f0d76cb3', 15400006, 190, 0.028, 0.02534, '0x39223e2596bf8e1de3894f66947cacc614c24a2f', '2732', 1, 1), ('0x616ed054e0e0fdbfcad3fa2f42daed3d7d4ee448', '0xe76c2e2f45eec562e029d9f139a906a0259ec39d', '0xe4556462c1e1696f4d3ff3e1ea941b9899c5f11abe1dc78ca723c8b7f0d76cb3', 15400006, 191, 0.028, 0.02534, '0x39223e2596bf8e1de3894f66947cacc614c24a2f', '2729', 1, 1), ('0xd9bc1fc51b8d8369980505aa96e975da03346b4a', '0xe76c2e2f45eec562e029d9f139a906a0259ec39d', '0xe4556462c1e1696f4d3ff3e1ea941b9899c5f11abe1dc78ca723c8b7f0d76cb3', 15400006, 192, 0.029, 0.026245, '0x39223e2596bf8e1de3894f66947cacc614c24a2f', '1668', 1, 1), ('0xd604609f4328850a6357db84334185a5053841bd', '0x8f53017ed3761299f44c656917636a2dcd01d4be', '0x19f3ff8e686912160e8644ff553ee983ae1974fc69096f38b8659bb53289099c', 15400013, 30, 0.00225, 0.002025, '0xc68c9c5fa14f718b39a6d836b8870fadde4f2aa5', '6577', 1, 1), ('0xa0b4ce2799eab91219ebe2748029b1571d83d5fc', '0xe252a52b1a0df43c24225320131a5410a552b68c', '0x504cab6a24cbe5b22059ace9d8da57f672b09c60ae75bb9d6896d82095714686', 15400014, 153, 0.0029, 0.0026274, '0x287850ee043155d8e4aa6656478f1fb98f52d822', '1344', 1, 1), ('0xfcdaa268c4d2933df7d37e8c8726884228ca1566', '0x3546bd99767246c358ff1497f1580c8365b25ac8', '0xafaff18e55b97a4302e07b6976f959926207b587d6cadbb9fde6b6e1f7268700', 15400014, 188, 0.08, 0.0724, '0x39223e2596bf8e1de3894f66947cacc614c24a2f', '4806', 1, 1), ('0xcde15950d8a17dcc88b1f899d7e03b6e6c503810', '0x3dc1ea25bf062be5bb102305fba401d74bf63ea2', '0x52d879f9962543d77fc6c4ca0ee7d6dcd98e8233bd3b83320f8213b9493f5d5c', 15400020, 396, 0.0127, 0.0117475, '0xb60c2019ddb48623ed1d134b2bb42f437c6a0202', '1077', 1, 1), ('0x0338ce5020c447f7e668dc2ef778025ce398266b', '0xbdaefe578294842fb433769c6b0d95130099e96e', '0xde3b6baaec3d7ea7a656ae7e994a3fe3946ccafbd2b7c2ebb7d79dd3a7f77b70', 15400021, 21, 0.037, 0.033485, '0x39223e2596bf8e1de3894f66947cacc614c24a2f', '5035', 1, 1), ('0x271ae5a9e689ee106eef2e70861122aaf2a3135f', '0xcfaf4ab81a32b84286f6b116fae34c8c99966427', '0x8eece2994211330d11138294b0c25c19f2b44f0bbab6dc2b3bacfb92afb2db15', 15400022, 205, 0.0031, 0.0028086, '0x287850ee043155d8e4aa6656478f1fb98f52d822', '7427', 1, 1))\n"
     ]
    }
   ],
   "source": [
    "import json\n",
    "\n",
    "def main():\n",
    "    res = get_nft_trade(15400000,15450000)\n",
    "    print(res)\n",
    "    \n",
    "if __name__ == \"__main__\":\n",
    "    main()"
   ]
  },
  {
   "cell_type": "code",
   "execution_count": 46,
   "id": "d12dec1a-0eb6-4f18-878e-cd5c7d0878bf",
   "metadata": {},
   "outputs": [
    {
     "name": "stdout",
     "output_type": "stream",
     "text": [
      "401744 15582482\n"
     ]
    }
   ],
   "source": [
    "def get_compound_users():\n",
    "    connection = pymysql.connect(host=mysql_host, user=mysql_user, password=mysql_pd, db='dw', port=int(mysql_prot), charset='utf8')\n",
    "    cursor = connection.cursor()\n",
    "\n",
    "    # get max block_number\n",
    "    max_blo_sql = \"\"\"\n",
    "        select max(block_number) as block_number\n",
    "        from dw.dws_token_balance_eth\"\"\"\n",
    "    cursor.execute(max_blo_sql)\n",
    "    max_blo = cursor.fetchall()[0][0]\n",
    "\n",
    "    \n",
    "    sql = \"\"\"\n",
    "        select account_address\n",
    "        from dw.dws_token_balance_eth\n",
    "        where token_address in (\n",
    "            '0x041171993284df560249b57358f931d9eb7b925d',\n",
    "            '0x12392f67bdf24fae0af363c24ac620a2f67dad86',\n",
    "            '0x158079ee67fce2f58472a96584a73c7ab9ac95c1',\n",
    "            '0x35a18000230da775cac24873d00ff85bccded550',\n",
    "            '0x39aa39c021dfbae8fac545936693ac917d5e7563',\n",
    "            '0x4b0181102a0112a2ef11abee5563bb4a3176c9d7',\n",
    "            '0x4ddc2d193948926d02f9b1fe9e1daa0718270ed5',\n",
    "            '0x5d3a536e4d6dbd6114cc1ead35777bab948e3643',\n",
    "            '0x6c8c6b02e7b2be14d4fa6022dfd6d75921d90e4e',\n",
    "            '0x70e36f6bf80a52b3b46b3af8e106cc0ed743e8e4',\n",
    "            '0x7713dd9ca933848f6819f38b8352d9a15ea73f67',\n",
    "            '0x80a2ae356fc9ef4305676f7a3e2ed04e12c33946',\n",
    "            '0x95b4ef2869ebd94beb4eee400a99824bf5dc325b',\n",
    "            '0xb3319f5d18bc0d84dd1b4825dcde5d5f7266d407',\n",
    "            '0xc11b1268c1a384e55c48c2391d8d480264a3a7f4',\n",
    "            '0xccf4429db6322d5c611ee964527d42e5d685dd6a',\n",
    "            '0xe65cdb6479bac1e22340e4e755fae7e509ecd06c',\n",
    "            '0xf5dce57282a584d2746faf1593d3121fcac444dc',\n",
    "            '0xf650c3d88d12db855b8bf7d11be6c55a4e07dcc9',\n",
    "            '0xface851a4921ce59e912d19329929ce6da6eb0c7'\n",
    "        )\n",
    "        group by 1\n",
    "    \"\"\"\n",
    "    cursor.execute(sql)\n",
    "    res_rows = cursor.fetchall()\n",
    "    return res_rows,max_blo\n",
    "\n",
    "res,max_blo = get_compound_users()\n",
    "print(len(res),max_blo)"
   ]
  }
 ],
 "metadata": {
  "kernelspec": {
   "display_name": "Python 3.9.6 64-bit",
   "language": "python",
   "name": "python3"
  },
  "language_info": {
   "codemirror_mode": {
    "name": "ipython",
    "version": 3
   },
   "file_extension": ".py",
   "mimetype": "text/x-python",
   "name": "python",
   "nbconvert_exporter": "python",
   "pygments_lexer": "ipython3",
   "version": "3.9.6"
  },
  "vscode": {
   "interpreter": {
    "hash": "31f2aee4e71d21fbe5cf8b01ff0e069b9275f58929596ceb00d14d90e3e16cd6"
   }
  }
 },
 "nbformat": 4,
 "nbformat_minor": 5
}
