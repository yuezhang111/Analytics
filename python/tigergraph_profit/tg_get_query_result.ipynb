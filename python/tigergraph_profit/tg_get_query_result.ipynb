{
 "cells": [
  {
   "cell_type": "code",
   "execution_count": 34,
   "id": "6fe1080e-14c3-404b-9d39-67751115f3ba",
   "metadata": {},
   "outputs": [
    {
     "name": "stdout",
     "output_type": "stream",
     "text": [
      "get_url http://148.251.53.212:9000/query/NFT_Profit_Transfer/nft_profit_v2?account_list=0xbb34d62e24def6543470a9fd1d05f70375ce5ec5\n"
     ]
    },
    {
     "data": {
      "text/plain": [
       "{'version': {'edition': 'enterprise', 'api': 'v2', 'schema': 46},\n",
       " 'error': True,\n",
       " 'message': \"Access Denied because the input token = '' is empty\",\n",
       " 'code': 'REST-10016'}"
      ]
     },
     "execution_count": 34,
     "metadata": {},
     "output_type": "execute_result"
    }
   ],
   "source": [
    "import json\n",
    "import os\n",
    "import requests\n",
    "from requests.auth import HTTPBasicAuth\n",
    "from typing import List\n",
    "from loguru import logger\n",
    "\n",
    "from dotenv import load_dotenv \n",
    "load_dotenv()\n",
    "\n",
    "import sys\n",
    "sys.path.append('Documents/enlighten/analytics/python/tigergraph_profit')\n",
    "from db_client import TgGraphClient\n",
    "\n",
    "tg_server_ip = os.getenv('tg_server_ip')\n",
    "tg_graph_name = 'NFT_Profit_Transfer'\n",
    "tg_username = os.getenv('tg_username')\n",
    "tg_password = os.getenv('tg_password')\n",
    "url = 'http://%s:9000/graph/%s' % (tg_server_ip, tg_graph_name)\n",
    "\n",
    "\n",
    "def getQueryResult(tg_server_ip,tg_graph_name,query_name,query_param):\n",
    "    url = 'http://%s:9000/query/%s/%s%s' % (tg_server_ip, tg_graph_name, query_name,query_param)\n",
    "    print('get_url', url)\n",
    "    result = requests.get(url, auth=HTTPBasicAuth(tg_username,tg_password))\n",
    "    data = json.loads(result.text, strict=False)\n",
    "    return data\n",
    "\n",
    "\n",
    "query_name = 'nft_profit_v2'\n",
    "query_param = '?account_list=0xbb34d62e24def6543470a9fd1d05f70375ce5ec5'\n",
    "# query_param = '?account_list=0xbb34d62e24def6543470a9fd1d05f70375ce5ec5&account_list=0xe89afaad1f5fa099add609606adc969e3203435f'\n",
    "result = getQueryResult(tg_server_ip,tg_graph_name,query_name,query_param)\n",
    "result\n"
   ]
  }
 ],
 "metadata": {
  "kernelspec": {
   "display_name": "Python 3 (ipykernel)",
   "language": "python",
   "name": "python3"
  },
  "language_info": {
   "codemirror_mode": {
    "name": "ipython",
    "version": 3
   },
   "file_extension": ".py",
   "mimetype": "text/x-python",
   "name": "python",
   "nbconvert_exporter": "python",
   "pygments_lexer": "ipython3",
   "version": "3.9.12"
  }
 },
 "nbformat": 4,
 "nbformat_minor": 5
}
