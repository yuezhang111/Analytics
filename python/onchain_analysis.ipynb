{
 "cells": [
  {
   "cell_type": "code",
   "execution_count": 2,
   "id": "f9c967ed-4aa5-415e-bac7-8b40db8231bd",
   "metadata": {},
   "outputs": [
    {
     "name": "stderr",
     "output_type": "stream",
     "text": [
      "INFO:root:connection created\n"
     ]
    }
   ],
   "source": [
    "import pymysql\n",
    "import logging\n",
    "import pandas as pd\n",
    "logging.basicConfig(level=logging.INFO)\n",
    "\n",
    "mysql_host = \"142.132.134.21\"\n",
    "mysql_prot = 9030\n",
    "mysql_user = \"dw\"\n",
    "mysql_pd = \"a64imrJwqKZc9jiU!*aCYi.xnh9*TVhhBmZi\"\n",
    "mysql_db = \"dw\"\n",
    "connection = pymysql.connect(host=mysql_host, user=mysql_user, password=mysql_pd, db=mysql_db, port=mysql_prot, charset='utf8')\n",
    "cursor = connection.cursor()\n",
    "logging.info(\"connection created\")\n",
    "\n",
    "\n",
    "def getSqlResult(sql):\n",
    "    cursor.execute(sql)\n",
    "    res_rows = cursor.fetchall()\n",
    "    df = pd.DataFrame(res_rows)\n",
    "    return df"
   ]
  },
  {
   "cell_type": "code",
   "execution_count": 17,
   "id": "651345c6-0e1d-4446-9c48-b487ffe58fb3",
   "metadata": {},
   "outputs": [
    {
     "name": "stderr",
     "output_type": "stream",
     "text": [
      "/opt/conda/lib/python3.9/site-packages/pandas/io/sql.py:761: UserWarning: pandas only support SQLAlchemy connectable(engine/connection) ordatabase string URI or sqlite3 DBAPI2 connectionother DBAPI2 objects are not tested, please consider using SQLAlchemy\n",
      "  warnings.warn(\n"
     ]
    }
   ],
   "source": [
    "txn_hash = '0x958236266991bc3fe3b77feaacea120f172c0708ad01c7a715b255f218f9313c'\n",
    "txn_detail_sql = \"\"\"\n",
    "select a.block_number,a.log_index,a.transaction_hash\n",
    "    ,a.token_address,b.symbol,b.token_description,b.decimals\n",
    "    ,a.from_address,c.tag_code\n",
    "    ,a.to_address,c.tag_code\n",
    "    ,a.value\n",
    "    ,a.value/POWER(10, b.decimals) as txn_value\n",
    "from prod.transfer_event_eth as a\n",
    "left join prod.token as b\n",
    "on a.token_address = b.address\n",
    "left join\n",
    "(\n",
    "    select address\n",
    "        ,max(tag_code) as tag_code\n",
    "    from prod.tag_address\n",
    "    group by 1\n",
    ") as c\n",
    "on a.from_address = c.address\n",
    "left join \n",
    "(\n",
    "    select address\n",
    "        ,max(tag_code) as tag_code\n",
    "    from prod.tag_address\n",
    "    group by 1\n",
    ") as d\n",
    "on a.to_address = d.address\n",
    "where a.transaction_hash = '{txn_hash}'\n",
    "order by log_index asc\n",
    "\"\"\".format(txn_hash=txn_hash)\n",
    "df = pd.read_sql(txn_detail_sql, con=connection)"
   ]
  },
  {
   "cell_type": "markdown",
   "id": "8a98f726-cf62-4773-833a-bf39333752d2",
   "metadata": {},
   "source": [
    "# Coinbase Transfer"
   ]
  },
  {
   "cell_type": "code",
   "execution_count": 4,
   "id": "92e30371-0d70-4165-bdc2-db6131a8ceee",
   "metadata": {},
   "outputs": [
    {
     "data": {
      "text/html": [
       "<div>\n",
       "<style scoped>\n",
       "    .dataframe tbody tr th:only-of-type {\n",
       "        vertical-align: middle;\n",
       "    }\n",
       "\n",
       "    .dataframe tbody tr th {\n",
       "        vertical-align: top;\n",
       "    }\n",
       "\n",
       "    .dataframe thead th {\n",
       "        text-align: right;\n",
       "    }\n",
       "</style>\n",
       "<table border=\"1\" class=\"dataframe\">\n",
       "  <thead>\n",
       "    <tr style=\"text-align: right;\">\n",
       "      <th></th>\n",
       "      <th>0</th>\n",
       "      <th>1</th>\n",
       "      <th>2</th>\n",
       "      <th>3</th>\n",
       "    </tr>\n",
       "  </thead>\n",
       "  <tbody>\n",
       "    <tr>\n",
       "      <th>0</th>\n",
       "      <td>15177999</td>\n",
       "      <td>0xf41775f2a03045511deee450845d6e197a2909ac46c2...</td>\n",
       "      <td>0.231752</td>\n",
       "      <td>0.013493</td>\n",
       "    </tr>\n",
       "    <tr>\n",
       "      <th>1</th>\n",
       "      <td>15177999</td>\n",
       "      <td>0xec7b3c821492dd76ac274b7ac37e0b55cabe535ecbd9...</td>\n",
       "      <td>0.517402</td>\n",
       "      <td>0.005718</td>\n",
       "    </tr>\n",
       "  </tbody>\n",
       "</table>\n",
       "</div>"
      ],
      "text/plain": [
       "          0                                                  1         2  \\\n",
       "0  15177999  0xf41775f2a03045511deee450845d6e197a2909ac46c2...  0.231752   \n",
       "1  15177999  0xec7b3c821492dd76ac274b7ac37e0b55cabe535ecbd9...  0.517402   \n",
       "\n",
       "          3  \n",
       "0  0.013493  \n",
       "1  0.005718  "
      ]
     },
     "execution_count": 4,
     "metadata": {},
     "output_type": "execute_result"
    }
   ],
   "source": [
    "def get_coinbase_trf(txn_list,start_block,end_block):\n",
    "    sql =\"\"\"\n",
    "    select a.block_number\n",
    "        ,a.transaction_hash\n",
    "        ,max(case when a.miner is not null then a.amount else 0 end) as coinbase_trf_amt\n",
    "        ,max(b.effective_gas_price * b.gas_used / POWER(10.0, 18)) as gas_fee\n",
    "    from (\n",
    "        select a.block_number,a.transaction_hash\n",
    "            ,a.from_address,a.to_address\n",
    "            ,b.miner,a.token_address,a.symbol,a.amount\n",
    "        from dw.dwb_token_transfer_detail_eth_hi as a\n",
    "        left join prod.blocks as b\n",
    "        on a.block_number = b.block_number\n",
    "        and a.to_address = b.miner\n",
    "        and b.block_number >= {start_block} and b.block_number <= {end_block}\n",
    "        and b.`chain` = 'eth'\n",
    "        where a.block_number >= {start_block} and a.block_number <= {end_block}\n",
    "        and a.transaction_hash in ({txn_list})\n",
    "    ) as a \n",
    "    left join prod.transactions_eth as b\n",
    "    on a.transaction_hash = b.transaction_hash\n",
    "    and b.block_number >= {start_block} and b.block_number<= {end_block}\n",
    "    group by 1,2\n",
    "    \"\"\".format(\n",
    "        start_block = start_block,\n",
    "        end_block = end_block,\n",
    "        txn_list = \",\".join('\"'+txn+'\"' for txn in txn_list)\n",
    "    )\n",
    "    df = getSqlResult(sql)\n",
    "    return df\n",
    "\n",
    "txn_list = [\n",
    "    '0xf41775f2a03045511deee450845d6e197a2909ac46c2f3759f2dff699eee5aa1',\n",
    "    '0xec7b3c821492dd76ac274b7ac37e0b55cabe535ecbd917b740f8d3389c2c3b27'\n",
    "]\n",
    "start_block = 15177000\n",
    "end_block = 15178000\n",
    "df = get_coinbase_trf(txn_list,start_block,end_block)\n",
    "df"
   ]
  },
  {
   "cell_type": "code",
   "execution_count": null,
   "id": "896be604-c92c-4e48-ab46-f672af724d94",
   "metadata": {},
   "outputs": [],
   "source": []
  }
 ],
 "metadata": {
  "kernelspec": {
   "display_name": "Python 3 (ipykernel)",
   "language": "python",
   "name": "python3"
  },
  "language_info": {
   "codemirror_mode": {
    "name": "ipython",
    "version": 3
   },
   "file_extension": ".py",
   "mimetype": "text/x-python",
   "name": "python",
   "nbconvert_exporter": "python",
   "pygments_lexer": "ipython3",
   "version": "3.9.12"
  }
 },
 "nbformat": 4,
 "nbformat_minor": 5
}
