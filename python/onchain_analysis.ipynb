{
 "cells": [
  {
   "cell_type": "code",
   "execution_count": 76,
   "id": "f9c967ed-4aa5-415e-bac7-8b40db8231bd",
   "metadata": {},
   "outputs": [
    {
     "name": "stderr",
     "output_type": "stream",
     "text": [
      "INFO:root:connection created\n"
     ]
    }
   ],
   "source": [
    "import pymysql\n",
    "import logging\n",
    "import pandas as pd\n",
    "logging.basicConfig(level=logging.INFO)\n",
    "\n",
    "mysql_host = \"142.132.134.21\"\n",
    "mysql_prot = 9030\n",
    "mysql_user = \"dw\"\n",
    "mysql_pd = \"a64imrJwqKZc9jiU!*aCYi.xnh9*TVhhBmZi\"\n",
    "mysql_db = \"dw\"\n",
    "connection = pymysql.connect(host=mysql_host, user=mysql_user, password=mysql_pd, db=mysql_db, port=mysql_prot, charset='utf8')\n",
    "cursor = connection.cursor()\n",
    "logging.info(\"connection created\")\n",
    "\n",
    "\n",
    "def getSqlResult(sql):\n",
    "    cursor.execute(sql)\n",
    "    res_rows = cursor.fetchall()\n",
    "    df = pd.DataFrame(res_rows)\n",
    "    return df"
   ]
  },
  {
   "cell_type": "markdown",
   "id": "060c6068-65a1-43f3-94c6-bf82e2b38f83",
   "metadata": {},
   "source": [
    "# 0x958236266991bc3fe3b77feaacea120f172c0708ad01c7a715b255f218f9313c"
   ]
  },
  {
   "cell_type": "code",
   "execution_count": 17,
   "id": "651345c6-0e1d-4446-9c48-b487ffe58fb3",
   "metadata": {},
   "outputs": [
    {
     "name": "stderr",
     "output_type": "stream",
     "text": [
      "/opt/conda/lib/python3.9/site-packages/pandas/io/sql.py:761: UserWarning: pandas only support SQLAlchemy connectable(engine/connection) ordatabase string URI or sqlite3 DBAPI2 connectionother DBAPI2 objects are not tested, please consider using SQLAlchemy\n",
      "  warnings.warn(\n"
     ]
    }
   ],
   "source": [
    "txn_hash = '0x958236266991bc3fe3b77feaacea120f172c0708ad01c7a715b255f218f9313c'\n",
    "txn_detail_sql = \"\"\"\n",
    "select a.block_number,a.log_index,a.transaction_hash\n",
    "    ,a.token_address,b.symbol,b.token_description,b.decimals\n",
    "    ,a.from_address,c.tag_code\n",
    "    ,a.to_address,c.tag_code\n",
    "    ,a.value\n",
    "    ,a.value/POWER(10, b.decimals) as txn_value\n",
    "from prod.transfer_event_eth as a\n",
    "left join prod.token as b\n",
    "on a.token_address = b.address\n",
    "left join\n",
    "(\n",
    "    select address\n",
    "        ,max(tag_code) as tag_code\n",
    "    from prod.tag_address\n",
    "    group by 1\n",
    ") as c\n",
    "on a.from_address = c.address\n",
    "left join \n",
    "(\n",
    "    select address\n",
    "        ,max(tag_code) as tag_code\n",
    "    from prod.tag_address\n",
    "    group by 1\n",
    ") as d\n",
    "on a.to_address = d.address\n",
    "where a.transaction_hash = '{txn_hash}'\n",
    "order by log_index asc\n",
    "\"\"\".format(txn_hash=txn_hash)\n",
    "df = pd.read_sql(txn_detail_sql, con=connection)"
   ]
  },
  {
   "cell_type": "markdown",
   "id": "8a98f726-cf62-4773-833a-bf39333752d2",
   "metadata": {},
   "source": [
    "# Coinbase Transfer"
   ]
  },
  {
   "cell_type": "code",
   "execution_count": 5,
   "id": "92e30371-0d70-4165-bdc2-db6131a8ceee",
   "metadata": {},
   "outputs": [
    {
     "data": {
      "text/html": [
       "<div>\n",
       "<style scoped>\n",
       "    .dataframe tbody tr th:only-of-type {\n",
       "        vertical-align: middle;\n",
       "    }\n",
       "\n",
       "    .dataframe tbody tr th {\n",
       "        vertical-align: top;\n",
       "    }\n",
       "\n",
       "    .dataframe thead th {\n",
       "        text-align: right;\n",
       "    }\n",
       "</style>\n",
       "<table border=\"1\" class=\"dataframe\">\n",
       "  <thead>\n",
       "    <tr style=\"text-align: right;\">\n",
       "      <th></th>\n",
       "      <th>0</th>\n",
       "      <th>1</th>\n",
       "      <th>2</th>\n",
       "      <th>3</th>\n",
       "    </tr>\n",
       "  </thead>\n",
       "  <tbody>\n",
       "    <tr>\n",
       "      <th>0</th>\n",
       "      <td>15177999</td>\n",
       "      <td>0xec7b3c821492dd76ac274b7ac37e0b55cabe535ecbd9...</td>\n",
       "      <td>0.517402</td>\n",
       "      <td>0.005718</td>\n",
       "    </tr>\n",
       "    <tr>\n",
       "      <th>1</th>\n",
       "      <td>15177999</td>\n",
       "      <td>0xf41775f2a03045511deee450845d6e197a2909ac46c2...</td>\n",
       "      <td>0.231752</td>\n",
       "      <td>0.013493</td>\n",
       "    </tr>\n",
       "    <tr>\n",
       "      <th>2</th>\n",
       "      <td>15103060</td>\n",
       "      <td>0xc154db3aefe3e7a1d58ee45c2b543faa49e341075588...</td>\n",
       "      <td>0.000000</td>\n",
       "      <td>0.016140</td>\n",
       "    </tr>\n",
       "  </tbody>\n",
       "</table>\n",
       "</div>"
      ],
      "text/plain": [
       "          0                                                  1         2  \\\n",
       "0  15177999  0xec7b3c821492dd76ac274b7ac37e0b55cabe535ecbd9...  0.517402   \n",
       "1  15177999  0xf41775f2a03045511deee450845d6e197a2909ac46c2...  0.231752   \n",
       "2  15103060  0xc154db3aefe3e7a1d58ee45c2b543faa49e341075588...  0.000000   \n",
       "\n",
       "          3  \n",
       "0  0.005718  \n",
       "1  0.013493  \n",
       "2  0.016140  "
      ]
     },
     "execution_count": 5,
     "metadata": {},
     "output_type": "execute_result"
    }
   ],
   "source": [
    "def get_coinbase_trf(txn_list,start_block,end_block):\n",
    "    sql =\"\"\"\n",
    "    select a.block_number\n",
    "        ,a.transaction_hash\n",
    "        ,max(case when a.miner is not null then a.amount else 0 end) as coinbase_trf_amt\n",
    "        ,max(b.effective_gas_price * b.gas_used / POWER(10.0, 18)) as gas_fee\n",
    "    from (\n",
    "        select a.block_number,a.transaction_hash\n",
    "            ,a.from_address,a.to_address\n",
    "            ,b.miner,a.token_address,a.symbol,a.amount\n",
    "        from dw.dwb_token_transfer_detail_eth_hi as a\n",
    "        left join prod.blocks as b\n",
    "        on a.block_number = b.block_number\n",
    "        and a.to_address = b.miner\n",
    "        and b.block_number >= {start_block} and b.block_number <= {end_block}\n",
    "        and b.`chain` = 'eth'\n",
    "        where a.block_number >= {start_block} and a.block_number <= {end_block}\n",
    "        and a.transaction_hash in ({txn_list})\n",
    "    ) as a \n",
    "    left join prod.transactions_eth as b\n",
    "    on a.transaction_hash = b.transaction_hash\n",
    "    and b.block_number >= {start_block} and b.block_number<= {end_block}\n",
    "    group by 1,2\n",
    "    \"\"\".format(\n",
    "        start_block = start_block,\n",
    "        end_block = end_block,\n",
    "        txn_list = \",\".join('\"'+txn+'\"' for txn in txn_list)\n",
    "    )\n",
    "    df = getSqlResult(sql)\n",
    "    return df\n",
    "\n",
    "\n",
    "txn_list = [\n",
    "    '0xf41775f2a03045511deee450845d6e197a2909ac46c2f3759f2dff699eee5aa1',\n",
    "    '0xec7b3c821492dd76ac274b7ac37e0b55cabe535ecbd917b740f8d3389c2c3b27',\n",
    "    '0xc154db3aefe3e7a1d58ee45c2b543faa49e341075588f7e1e113ffb93d74d930'\n",
    "]\n",
    "start_block = 15100000\n",
    "end_block = 15178000\n",
    "df = get_coinbase_trf(txn_list,start_block,end_block)\n",
    "df"
   ]
  },
  {
   "cell_type": "markdown",
   "id": "d91e6135-feba-43b7-a5a5-25f09a5e17e4",
   "metadata": {},
   "source": [
    "# Protocal Liquidity"
   ]
  },
  {
   "cell_type": "code",
   "execution_count": 80,
   "id": "9bd868a8-c2cf-498e-bf8c-9094f41f4697",
   "metadata": {},
   "outputs": [
    {
     "data": {
      "text/html": [
       "<div>\n",
       "<style scoped>\n",
       "    .dataframe tbody tr th:only-of-type {\n",
       "        vertical-align: middle;\n",
       "    }\n",
       "\n",
       "    .dataframe tbody tr th {\n",
       "        vertical-align: top;\n",
       "    }\n",
       "\n",
       "    .dataframe thead th {\n",
       "        text-align: right;\n",
       "    }\n",
       "</style>\n",
       "<table border=\"1\" class=\"dataframe\">\n",
       "  <thead>\n",
       "    <tr style=\"text-align: right;\">\n",
       "      <th></th>\n",
       "      <th>protocol_address</th>\n",
       "      <th>liquidity</th>\n",
       "    </tr>\n",
       "  </thead>\n",
       "  <tbody>\n",
       "    <tr>\n",
       "      <th>0</th>\n",
       "      <td>0x760166fa4f227da29ecac3bec348f5fa853a1f3c</td>\n",
       "      <td>151234.03069</td>\n",
       "    </tr>\n",
       "  </tbody>\n",
       "</table>\n",
       "</div>"
      ],
      "text/plain": [
       "                             protocol_address     liquidity\n",
       "0  0x760166fa4f227da29ecac3bec348f5fa853a1f3c  151234.03069"
      ]
     },
     "execution_count": 80,
     "metadata": {},
     "output_type": "execute_result"
    }
   ],
   "source": [
    "def get_protocol_liquidity(pair_list):\n",
    "    sql =\"\"\"\n",
    "    select a.account_address as protocol_address\n",
    "        ,a.token_address\n",
    "        ,a.`value` * b.price as usd_value\n",
    "    from dw.dws_token_balance_eth as a\n",
    "    left join\n",
    "    (\n",
    "        select token_address,max(price) as price\n",
    "        from dw.dwb_token_price_eth_byday_di\n",
    "        where dt >= DATE_SUB(now(),1)\n",
    "        group by 1\n",
    "    ) as b\n",
    "    on a.token_address = b.token_address\n",
    "    where a.account_address in ({pair_list_str})\n",
    "    \"\"\".format(\n",
    "        pair_list_str = \",\".join('\"'+p[0]+'\"' for p in pair_list)\n",
    "    )\n",
    "    df = getSqlResult(sql)\n",
    "    df.set_axis([\"protocol_address\",\"token_address\",\"liquidity\"],axis=1,inplace=True)\n",
    "\n",
    "    df_raw=[]\n",
    "    for i in range(len(pair_list)):\n",
    "        for j in range(len(pair_list[i])-1):\n",
    "            df_raw.append([pair_list[i][0],pair_list[i][j+1]])\n",
    "    df1 = pd.DataFrame(df_raw)\n",
    "    df1.set_axis([\"protocol_address\",\"token_address\"],axis=1,inplace=True)\n",
    "\n",
    "    df_res = pd.merge(\n",
    "        df,df1,how='inner',\n",
    "        left_on=['protocol_address','token_address'],\n",
    "        right_on=['protocol_address','token_address']\n",
    "    )\n",
    "    df_res = df_res.groupby(['protocol_address']).sum().reset_index()\n",
    "    return df_res\n",
    "\n",
    "\n",
    "pair_list = [\n",
    "    ('0x760166fa4f227da29ecac3bec348f5fa853a1f3c','0xc02aaa39b223fe8d0a0e5c4f27ead9083c756cc2','0x0000000000085d4780b73119b644ae5ecd22b376'), \n",
    "]\n",
    "df = get_protocol_liquidity(pair_list)\n",
    "df"
   ]
  },
  {
   "cell_type": "markdown",
   "id": "b947e111-e5c6-458c-ac29-6c516b90a829",
   "metadata": {},
   "source": [
    "# Test"
   ]
  },
  {
   "cell_type": "code",
   "execution_count": 68,
   "id": "9f054d13-e963-4963-a872-08f4aea447d0",
   "metadata": {},
   "outputs": [
    {
     "data": {
      "text/html": [
       "<div>\n",
       "<style scoped>\n",
       "    .dataframe tbody tr th:only-of-type {\n",
       "        vertical-align: middle;\n",
       "    }\n",
       "\n",
       "    .dataframe tbody tr th {\n",
       "        vertical-align: top;\n",
       "    }\n",
       "\n",
       "    .dataframe thead th {\n",
       "        text-align: right;\n",
       "    }\n",
       "</style>\n",
       "<table border=\"1\" class=\"dataframe\">\n",
       "  <thead>\n",
       "    <tr style=\"text-align: right;\">\n",
       "      <th></th>\n",
       "      <th>protocol_address</th>\n",
       "      <th>market_value</th>\n",
       "    </tr>\n",
       "  </thead>\n",
       "  <tbody>\n",
       "    <tr>\n",
       "      <th>0</th>\n",
       "      <td>0x2db094c50181f39863858f1878545feb26b975d0</td>\n",
       "      <td>9.003840e-06</td>\n",
       "    </tr>\n",
       "    <tr>\n",
       "      <th>1</th>\n",
       "      <td>0x3416cf6c708da44db2624d63ea0aaef7113527c6</td>\n",
       "      <td>1.614799e+08</td>\n",
       "    </tr>\n",
       "    <tr>\n",
       "      <th>2</th>\n",
       "      <td>0x48da0965ab2d2cbf1c17c09cfb5cbe67ad5b1406</td>\n",
       "      <td>7.680899e+05</td>\n",
       "    </tr>\n",
       "    <tr>\n",
       "      <th>3</th>\n",
       "      <td>0x5777d92f208679db4b9778590fa3cab3ac9e2168</td>\n",
       "      <td>8.981315e+08</td>\n",
       "    </tr>\n",
       "    <tr>\n",
       "      <th>4</th>\n",
       "      <td>0xb20ed18ee19747c0811d57d38b7ab3d71e44c191</td>\n",
       "      <td>0.000000e+00</td>\n",
       "    </tr>\n",
       "    <tr>\n",
       "      <th>5</th>\n",
       "      <td>0xd8dec118e1215f02e10db846dcbbfe27d477ac19</td>\n",
       "      <td>7.531073e+00</td>\n",
       "    </tr>\n",
       "    <tr>\n",
       "      <th>6</th>\n",
       "      <td>0xe6ff8b9a37b0fab776134636d9981aa778c4e718</td>\n",
       "      <td>3.507081e+02</td>\n",
       "    </tr>\n",
       "  </tbody>\n",
       "</table>\n",
       "</div>"
      ],
      "text/plain": [
       "                             protocol_address  market_value\n",
       "0  0x2db094c50181f39863858f1878545feb26b975d0  9.003840e-06\n",
       "1  0x3416cf6c708da44db2624d63ea0aaef7113527c6  1.614799e+08\n",
       "2  0x48da0965ab2d2cbf1c17c09cfb5cbe67ad5b1406  7.680899e+05\n",
       "3  0x5777d92f208679db4b9778590fa3cab3ac9e2168  8.981315e+08\n",
       "4  0xb20ed18ee19747c0811d57d38b7ab3d71e44c191  0.000000e+00\n",
       "5  0xd8dec118e1215f02e10db846dcbbfe27d477ac19  7.531073e+00\n",
       "6  0xe6ff8b9a37b0fab776134636d9981aa778c4e718  3.507081e+02"
      ]
     },
     "execution_count": 68,
     "metadata": {},
     "output_type": "execute_result"
    }
   ],
   "source": [
    "pair_list = [\n",
    "    ('0x5777d92f208679db4b9778590fa3cab3ac9e2168','0xa0b86991c6218b36c1d19d4a2e9eb0ce3606eb48', '0x6b175474e89094c44da98b954eedeac495271d0f'),\n",
    "    ('0x2db094c50181f39863858f1878545feb26b975d0', '0xa0b86991c6218b36c1d19d4a2e9eb0ce3606eb48', '0x0bc529c00C6401aEF6D220BE8C6Ea1667F6Ad93e'), \n",
    "    ('0x3416cf6c708da44db2624d63ea0aaef7113527c6', '0xa0b86991c6218b36c1d19d4a2e9eb0ce3606eb48', '0xdac17f958d2ee523a2206206994597c13d831ec7'), \n",
    "    ('0xd8dec118e1215f02e10db846dcbbfe27d477ac19', '0xc02aaa39b223fe8d0a0e5c4f27ead9083c756cc2', '0x6b175474e89094c44da98b954eedeac495271d0f'), \n",
    "    ('0xe6ff8b9a37b0fab776134636d9981aa778c4e718', '0xc02aaa39b223fe8d0a0e5c4f27ead9083c756cc2', '0x2260FAC5E5542a773Aa44fBCfeDf7C193bc2C599'), \n",
    "    ('0xb20ed18ee19747c0811d57d38b7ab3d71e44c191', '0x6b175474e89094c44da98b954eedeac495271d0f', '0x7Fc66500c84A76Ad7e9c93437bFc5Ac33E2DDaE9'), \n",
    "    ('0x48da0965ab2d2cbf1c17c09cfb5cbe67ad5b1406', '0x6b175474e89094c44da98b954eedeac495271d0f', '0xdac17f958d2ee523a2206206994597c13d831ec7')\n",
    "]\n",
    "df_raw=[]\n",
    "for i in range(len(pair_list)):\n",
    "    for j in range(2):\n",
    "        df_raw.append([pair_list[i][0],pair_list[i][j+1]])\n",
    "df1 = pd.DataFrame(df_raw)\n",
    "df1.set_axis([\"protocol_address\",\"token_address\"],axis=1,inplace=True)\n",
    "\n",
    "df_res = pd.merge(df,df1,how='inner',left_on=['protocol_address','token_address'],right_on=['protocol_address','token_address'])\n",
    "df_res.groupby(['protocol_address']).sum().reset_index()"
   ]
  },
  {
   "cell_type": "code",
   "execution_count": 89,
   "id": "580fad5d-edc3-4be3-94df-903dc6a725b7",
   "metadata": {},
   "outputs": [
    {
     "data": {
      "text/plain": [
       "0.18"
      ]
     },
     "execution_count": 89,
     "metadata": {},
     "output_type": "execute_result"
    }
   ],
   "source": [
    "int('027f7d0bdb920000',16)/pow(10,18)"
   ]
  }
 ],
 "metadata": {
  "kernelspec": {
   "display_name": "Python 3 (ipykernel)",
   "language": "python",
   "name": "python3"
  },
  "language_info": {
   "codemirror_mode": {
    "name": "ipython",
    "version": 3
   },
   "file_extension": ".py",
   "mimetype": "text/x-python",
   "name": "python",
   "nbconvert_exporter": "python",
   "pygments_lexer": "ipython3",
   "version": "3.9.12"
  }
 },
 "nbformat": 4,
 "nbformat_minor": 5
}
