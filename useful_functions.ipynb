{
 "cells": [
  {
   "cell_type": "code",
   "execution_count": 1,
   "id": "2ee61789-7fed-4d7c-90b4-da655449b6d8",
   "metadata": {},
   "outputs": [
    {
     "name": "stderr",
     "output_type": "stream",
     "text": [
      "INFO:root:connection created\n"
     ]
    }
   ],
   "source": [
    "# doris connection\n",
    "import pymysql\n",
    "import logging\n",
    "logging.basicConfig(level=logging.INFO)\n",
    "\n",
    "mysql_host = \"142.132.134.21\"\n",
    "mysql_prot = 9030\n",
    "mysql_user = \"dw\"\n",
    "mysql_pd = \"a64imrJwqKZc9jiU!*aCYi.xnh9*TVhhBmZi\"\n",
    "mysql_db = \"dw\"\n",
    "connection = pymysql.connect(host=mysql_host, user=mysql_user, password=mysql_pd, db=mysql_db, port=mysql_prot, charset='utf8')\n",
    "cursor = connection.cursor()\n",
    "logging.info(\"connection created\")\n",
    "\n",
    "# sql = \"\"\" select * from dw.dim_date_di limit 10 \"\"\"\n",
    "# cursor.execute(sql)"
   ]
  },
  {
   "cell_type": "code",
   "execution_count": 2,
   "id": "f5675387-a427-4e18-b662-d3bf1bfd55e2",
   "metadata": {},
   "outputs": [],
   "source": [
    "# 时间衰减函数\n",
    "\n",
    "# sql query\n",
    "# exp(-(ln(0.8/0.2)/30) * (datediff(now(),date(created_at))-ln(0.8)/(ln(0.8/0.2)/30)))\n",
    "\n",
    "# python code\n",
    "import numpy as np\n",
    "def exponential_decay(t, init=0.8, m=30, finish=0.2):\n",
    "    alpha = np.log(init / finish) / m\n",
    "    l = - np.log(init) / alpha\n",
    "    decay = np.exp(-alpha * (t + l))\n",
    "    return decay"
   ]
  },
  {
   "cell_type": "code",
   "execution_count": null,
   "id": "853d78f2-15da-49bb-b249-cdec93d3875b",
   "metadata": {},
   "outputs": [],
   "source": []
  }
 ],
 "metadata": {
  "kernelspec": {
   "display_name": "Python 3 (ipykernel)",
   "language": "python",
   "name": "python3"
  },
  "language_info": {
   "codemirror_mode": {
    "name": "ipython",
    "version": 3
   },
   "file_extension": ".py",
   "mimetype": "text/x-python",
   "name": "python",
   "nbconvert_exporter": "python",
   "pygments_lexer": "ipython3",
   "version": "3.9.12"
  },
  "toc-autonumbering": false,
  "toc-showmarkdowntxt": false,
  "toc-showtags": false
 },
 "nbformat": 4,
 "nbformat_minor": 5
}
