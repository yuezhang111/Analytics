{
 "cells": [
  {
   "cell_type": "code",
   "execution_count": 22,
   "id": "11290b50-fbef-4bac-b4d3-b101b36977b9",
   "metadata": {},
   "outputs": [
    {
     "name": "stderr",
     "output_type": "stream",
     "text": [
      "INFO:root:connection created\n"
     ]
    }
   ],
   "source": [
    "import pymysql\n",
    "import logging\n",
    "import pandas as pd\n",
    "logging.basicConfig(level=logging.INFO)\n",
    "\n",
    "mysql_host = \"142.132.134.21\"\n",
    "mysql_prot = 9030\n",
    "mysql_user = \"dw\"\n",
    "mysql_pd = \"a64imrJwqKZc9jiU!*aCYi.xnh9*TVhhBmZi\"\n",
    "mysql_db = \"dw\"\n",
    "connection = pymysql.connect(host=mysql_host, user=mysql_user, password=mysql_pd, db=mysql_db, port=mysql_prot, charset='utf8')\n",
    "cursor = connection.cursor()\n",
    "logging.info(\"connection created\")\n",
    "\n",
    "\n",
    "def getSqlResult(sql):\n",
    "    cursor.execute(sql)\n",
    "    res_rows = cursor.fetch()\n",
    "    df = pd.DataFrame(res_rows)\n",
    "    return df"
   ]
  },
  {
   "cell_type": "code",
   "execution_count": 23,
   "id": "50bb9965-9d85-40ad-98f8-c48ce2113fc3",
   "metadata": {},
   "outputs": [
    {
     "name": "stdout",
     "output_type": "stream",
     "text": [
      "\"0x47ce0c6ed5b0ce3d3a51fdb1c52dc66a7c3c2936\",\"0x910cbd523d972eb0a6f4cae4618ad62622b39dbf\",\"0xa160cdab225685da1d56aa342ad8841c3b53f291\",\"0x12d66f87a04a9e220743712ce6d9bb1b5616b8fc\",\"0x07687e702b410fa43f4cb4af7fa097918ffd2730\",\"0x23773e65ed146a459791799d01336db287f25334\",\"0x0836222f2b2b24a3f36f98668ed8f0b38d1a872f\",\"0x4736dcf1b7a3d580672cce6e7c65cd5cc9cfba9d\",\"0xfd8610d20aa15b7b2e3be39b396a1bc3516c7144\",\"0x169ad27a470d064dede56a2d3ff727986b15d52b\",\"0xd96f2b1c14db8458374d9aca76e26c3d18364307\",\"0xd4b88df4d29f5cedd6857912842cff3b20c8cfa3\",\"0xbb93e510bbcd0b7beb5a853875f9ec60275cf498\",\"0x610b717796ad172b316836ac95a2ffad065ceab4\",\"0x178169b423a011fff22b9e3f3abea13414ddd0f1\",\"0x03893a7c7463ae47d46bc7f091665f1893656003\",\"0x2717c5e28cf931547b621a5dddb772ab6a35b701\",\"0xd21be7248e0197ee08e0c20d4a96debdac3d20af\"\n"
     ]
    }
   ],
   "source": [
    "tornado_contracts = [\n",
    "'0x47ce0c6ed5b0ce3d3a51fdb1c52dc66a7c3c2936',\n",
    "'0x910cbd523d972eb0a6f4cae4618ad62622b39dbf',\n",
    "'0xa160cdab225685da1d56aa342ad8841c3b53f291',\n",
    "'0x12d66f87a04a9e220743712ce6d9bb1b5616b8fc',\n",
    "'0x07687e702b410fa43f4cb4af7fa097918ffd2730',\n",
    "'0x23773e65ed146a459791799d01336db287f25334',\n",
    "'0x0836222f2b2b24a3f36f98668ed8f0b38d1a872f',\n",
    "'0x4736dcf1b7a3d580672cce6e7c65cd5cc9cfba9d',\n",
    "'0xfd8610d20aa15b7b2e3be39b396a1bc3516c7144',\n",
    "'0x169ad27a470d064dede56a2d3ff727986b15d52b',\n",
    "'0xd96f2b1c14db8458374d9aca76e26c3d18364307',\n",
    "'0xd4b88df4d29f5cedd6857912842cff3b20c8cfa3',\n",
    "'0xbb93e510bbcd0b7beb5a853875f9ec60275cf498',\n",
    "'0x610b717796ad172b316836ac95a2ffad065ceab4',\n",
    "'0x178169b423a011fff22b9e3f3abea13414ddd0f1',\n",
    "'0x03893a7c7463ae47d46bc7f091665f1893656003',\n",
    "'0x2717c5e28cf931547b621a5dddb772ab6a35b701',\n",
    "'0xd21be7248e0197ee08e0c20d4a96debdac3d20af'\n",
    "]\n",
    "tornado_contract_str = \",\".join('\"'+c+'\"' for c in tornado_contracts)\n",
    "print(tornado_contract_str)"
   ]
  },
  {
   "cell_type": "code",
   "execution_count": 26,
   "id": "406d6907-6186-4fcd-9196-35f5988915aa",
   "metadata": {},
   "outputs": [
    {
     "name": "stdout",
     "output_type": "stream",
     "text": [
      "\n",
      "insert into dw.dws_account_tag\n",
      "select account_address\n",
      "    ,'eth' as chain\n",
      "    ,'tornado_cash_sender' as reference_tag_name\n",
      "    ,rank() over(order by tornado_deposit_cnt desc) as rk\n",
      "    ,min_ts as first_generate_time\n",
      "    ,max_ts as last_generate_time\n",
      "    ,NOW() AS etl_time\n",
      "from\n",
      "(\n",
      "    select from_address as account_address\n",
      "        ,count(*) as tornado_deposit_cnt\n",
      "        ,min(transfer_time) as min_ts\n",
      "        ,max(transfer_time) as max_ts\n",
      "    from\n",
      "    (\n",
      "        select transaction_hash\n",
      "            ,sum(case when from_address = \"0xd90e2f925da726b50c4ed8d0fb90ad053324f31b\" then 1 else 0 end) as deposit_trf_cnt\n",
      "            ,sum(case when from_address in (\"0x47ce0c6ed5b0ce3d3a51fdb1c52dc66a7c3c2936\",\"0x910cbd523d972eb0a6f4cae4618ad62622b39dbf\",\"0xa160cdab225685da1d56aa342ad8841c3b53f291\",\"0x12d66f87a04a9e220743712ce6d9bb1b5616b8fc\",\"0x07687e702b410fa43f4cb4af7fa097918ffd2730\",\"0x23773e65ed146a459791799d01336db287f25334\",\"0x0836222f2b2b24a3f36f98668ed8f0b38d1a872f\",\"0x4736dcf1b7a3d580672cce6e7c65cd5cc9cfba9d\",\"0xfd8610d20aa15b7b2e3be39b396a1bc3516c7144\",\"0x169ad27a470d064dede56a2d3ff727986b15d52b\",\"0xd96f2b1c14db8458374d9aca76e26c3d18364307\",\"0xd4b88df4d29f5cedd6857912842cff3b20c8cfa3\",\"0xbb93e510bbcd0b7beb5a853875f9ec60275cf498\",\"0x610b717796ad172b316836ac95a2ffad065ceab4\",\"0x178169b423a011fff22b9e3f3abea13414ddd0f1\",\"0x03893a7c7463ae47d46bc7f091665f1893656003\",\"0x2717c5e28cf931547b621a5dddb772ab6a35b701\",\"0xd21be7248e0197ee08e0c20d4a96debdac3d20af\")\n",
      "                       and to_address <> '0xd90e2f925da726b50c4ed8d0fb90ad053324f31b' \n",
      "                 then 1 else 0 end) as withdraw_trf_cnt\n",
      "        from dw.dwb_token_transfer_detail_eth_hi\n",
      "        where to_address in (\"0x47ce0c6ed5b0ce3d3a51fdb1c52dc66a7c3c2936\",\"0x910cbd523d972eb0a6f4cae4618ad62622b39dbf\",\"0xa160cdab225685da1d56aa342ad8841c3b53f291\",\"0x12d66f87a04a9e220743712ce6d9bb1b5616b8fc\",\"0x07687e702b410fa43f4cb4af7fa097918ffd2730\",\"0x23773e65ed146a459791799d01336db287f25334\",\"0x0836222f2b2b24a3f36f98668ed8f0b38d1a872f\",\"0x4736dcf1b7a3d580672cce6e7c65cd5cc9cfba9d\",\"0xfd8610d20aa15b7b2e3be39b396a1bc3516c7144\",\"0x169ad27a470d064dede56a2d3ff727986b15d52b\",\"0xd96f2b1c14db8458374d9aca76e26c3d18364307\",\"0xd4b88df4d29f5cedd6857912842cff3b20c8cfa3\",\"0xbb93e510bbcd0b7beb5a853875f9ec60275cf498\",\"0x610b717796ad172b316836ac95a2ffad065ceab4\",\"0x178169b423a011fff22b9e3f3abea13414ddd0f1\",\"0x03893a7c7463ae47d46bc7f091665f1893656003\",\"0x2717c5e28cf931547b621a5dddb772ab6a35b701\",\"0xd21be7248e0197ee08e0c20d4a96debdac3d20af\")\n",
      "        or from_address in (\"0x47ce0c6ed5b0ce3d3a51fdb1c52dc66a7c3c2936\",\"0x910cbd523d972eb0a6f4cae4618ad62622b39dbf\",\"0xa160cdab225685da1d56aa342ad8841c3b53f291\",\"0x12d66f87a04a9e220743712ce6d9bb1b5616b8fc\",\"0x07687e702b410fa43f4cb4af7fa097918ffd2730\",\"0x23773e65ed146a459791799d01336db287f25334\",\"0x0836222f2b2b24a3f36f98668ed8f0b38d1a872f\",\"0x4736dcf1b7a3d580672cce6e7c65cd5cc9cfba9d\",\"0xfd8610d20aa15b7b2e3be39b396a1bc3516c7144\",\"0x169ad27a470d064dede56a2d3ff727986b15d52b\",\"0xd96f2b1c14db8458374d9aca76e26c3d18364307\",\"0xd4b88df4d29f5cedd6857912842cff3b20c8cfa3\",\"0xbb93e510bbcd0b7beb5a853875f9ec60275cf498\",\"0x610b717796ad172b316836ac95a2ffad065ceab4\",\"0x178169b423a011fff22b9e3f3abea13414ddd0f1\",\"0x03893a7c7463ae47d46bc7f091665f1893656003\",\"0x2717c5e28cf931547b621a5dddb772ab6a35b701\",\"0xd21be7248e0197ee08e0c20d4a96debdac3d20af\")\n",
      "        group by 1\n",
      "    ) as a\n",
      "    left join dw.dwb_token_transfer_detail_eth_hi as b\n",
      "    on a.transaction_hash = b.transaction_hash\n",
      "    and b.to_address = '0x0000000000000000000000000000000000000000'\n",
      "    where a.deposit_trf_cnt > 0\n",
      "    and withdraw_trf_cnt = 0\n",
      "    group by 1\n",
      ") as t\n",
      "\n"
     ]
    }
   ],
   "source": [
    "sql = \"\"\"\n",
    "insert into dw.dws_account_tag\n",
    "select account_address\n",
    "    ,'eth' as chain\n",
    "    ,'tornado_cash_sender' as reference_tag_name\n",
    "    ,rank() over(order by tornado_deposit_cnt desc) as rk\n",
    "    ,min_ts as first_generate_time\n",
    "    ,max_ts as last_generate_time\n",
    "    ,NOW() AS etl_time\n",
    "from\n",
    "(\n",
    "    select from_address as account_address\n",
    "        ,count(*) as tornado_deposit_cnt\n",
    "        ,min(transfer_time) as min_ts\n",
    "        ,max(transfer_time) as max_ts\n",
    "    from\n",
    "    (\n",
    "        select transaction_hash\n",
    "            ,sum(case when from_address = \"0xd90e2f925da726b50c4ed8d0fb90ad053324f31b\" then 1 else 0 end) as deposit_trf_cnt\n",
    "            ,sum(case when from_address in ({tornado_contracts})\n",
    "                       and to_address <> '0xd90e2f925da726b50c4ed8d0fb90ad053324f31b' \n",
    "                 then 1 else 0 end) as withdraw_trf_cnt\n",
    "        from dw.dwb_token_transfer_detail_eth_hi\n",
    "        where to_address in ({tornado_contracts})\n",
    "        or from_address in ({tornado_contracts})\n",
    "        group by 1\n",
    "    ) as a\n",
    "    left join dw.dwb_token_transfer_detail_eth_hi as b\n",
    "    on a.transaction_hash = b.transaction_hash\n",
    "    and b.to_address = '0x0000000000000000000000000000000000000000'\n",
    "    where a.deposit_trf_cnt > 0\n",
    "    and withdraw_trf_cnt = 0\n",
    "    group by 1\n",
    ") as t\n",
    "\"\"\".format(tornado_contracts=tornado_contract_str)\n",
    "print(sql)"
   ]
  },
  {
   "cell_type": "code",
   "execution_count": 27,
   "id": "3c073f3c-cf0e-4c6b-909e-601a9b65a5dc",
   "metadata": {},
   "outputs": [
    {
     "data": {
      "text/plain": [
       "12920"
      ]
     },
     "execution_count": 27,
     "metadata": {},
     "output_type": "execute_result"
    }
   ],
   "source": [
    "cursor.execute(sql)"
   ]
  },
  {
   "cell_type": "code",
   "execution_count": 34,
   "id": "394f5779-ab48-4b38-960c-1dcd96aef54a",
   "metadata": {},
   "outputs": [
    {
     "name": "stdout",
     "output_type": "stream",
     "text": [
      "15351780\n"
     ]
    }
   ],
   "source": [
    "min_block_sql = \"\"\"\n",
    "select min(block_number) as block_number\n",
    "from prod.blocks\n",
    "where `chain` = 'eth'\n",
    "and FROM_UNIXTIME(`timestamp`)> DATE_SUB(now(),INTERVAL 1 DAY)\n",
    "\"\"\"\n",
    "cursor.execute(min_block_sql)\n",
    "min_block = cursor.fetchone()[0]"
   ]
  },
  {
   "cell_type": "code",
   "execution_count": 29,
   "id": "76944e01-c61f-48d5-b34f-6c2caf73b15a",
   "metadata": {},
   "outputs": [
    {
     "name": "stderr",
     "output_type": "stream",
     "text": [
      "INFO:root:connection created\n"
     ]
    },
    {
     "ename": "ProgrammingError",
     "evalue": "(1064, 'Not support use subquery in ON clause')",
     "output_type": "error",
     "traceback": [
      "\u001b[0;31m---------------------------------------------------------------------------\u001b[0m",
      "\u001b[0;31mProgrammingError\u001b[0m                          Traceback (most recent call last)",
      "Input \u001b[0;32mIn [29]\u001b[0m, in \u001b[0;36m<cell line: 87>\u001b[0;34m()\u001b[0m\n\u001b[1;32m     36\u001b[0m sql \u001b[38;5;241m=\u001b[39m \u001b[38;5;124m\"\"\"\u001b[39m\n\u001b[1;32m     37\u001b[0m \u001b[38;5;124minsert into dw.dws_account_tag\u001b[39m\n\u001b[1;32m     38\u001b[0m \u001b[38;5;124mselect account_address\u001b[39m\n\u001b[0;32m   (...)\u001b[0m\n\u001b[1;32m     84\u001b[0m \u001b[38;5;124m) as t\u001b[39m\n\u001b[1;32m     85\u001b[0m \u001b[38;5;124m\"\"\"\u001b[39m\u001b[38;5;241m.\u001b[39mformat(tornado_contracts\u001b[38;5;241m=\u001b[39mtornado_contract_str)\n\u001b[1;32m     86\u001b[0m \u001b[38;5;66;03m# print(sql)\u001b[39;00m\n\u001b[0;32m---> 87\u001b[0m \u001b[43mcursor\u001b[49m\u001b[38;5;241;43m.\u001b[39;49m\u001b[43mexecute\u001b[49m\u001b[43m(\u001b[49m\u001b[43msql\u001b[49m\u001b[43m)\u001b[49m\n",
      "File \u001b[0;32m/opt/conda/lib/python3.9/site-packages/pymysql/cursors.py:148\u001b[0m, in \u001b[0;36mCursor.execute\u001b[0;34m(self, query, args)\u001b[0m\n\u001b[1;32m    144\u001b[0m     \u001b[38;5;28;01mpass\u001b[39;00m\n\u001b[1;32m    146\u001b[0m query \u001b[38;5;241m=\u001b[39m \u001b[38;5;28mself\u001b[39m\u001b[38;5;241m.\u001b[39mmogrify(query, args)\n\u001b[0;32m--> 148\u001b[0m result \u001b[38;5;241m=\u001b[39m \u001b[38;5;28;43mself\u001b[39;49m\u001b[38;5;241;43m.\u001b[39;49m\u001b[43m_query\u001b[49m\u001b[43m(\u001b[49m\u001b[43mquery\u001b[49m\u001b[43m)\u001b[49m\n\u001b[1;32m    149\u001b[0m \u001b[38;5;28mself\u001b[39m\u001b[38;5;241m.\u001b[39m_executed \u001b[38;5;241m=\u001b[39m query\n\u001b[1;32m    150\u001b[0m \u001b[38;5;28;01mreturn\u001b[39;00m result\n",
      "File \u001b[0;32m/opt/conda/lib/python3.9/site-packages/pymysql/cursors.py:310\u001b[0m, in \u001b[0;36mCursor._query\u001b[0;34m(self, q)\u001b[0m\n\u001b[1;32m    308\u001b[0m \u001b[38;5;28mself\u001b[39m\u001b[38;5;241m.\u001b[39m_last_executed \u001b[38;5;241m=\u001b[39m q\n\u001b[1;32m    309\u001b[0m \u001b[38;5;28mself\u001b[39m\u001b[38;5;241m.\u001b[39m_clear_result()\n\u001b[0;32m--> 310\u001b[0m \u001b[43mconn\u001b[49m\u001b[38;5;241;43m.\u001b[39;49m\u001b[43mquery\u001b[49m\u001b[43m(\u001b[49m\u001b[43mq\u001b[49m\u001b[43m)\u001b[49m\n\u001b[1;32m    311\u001b[0m \u001b[38;5;28mself\u001b[39m\u001b[38;5;241m.\u001b[39m_do_get_result()\n\u001b[1;32m    312\u001b[0m \u001b[38;5;28;01mreturn\u001b[39;00m \u001b[38;5;28mself\u001b[39m\u001b[38;5;241m.\u001b[39mrowcount\n",
      "File \u001b[0;32m/opt/conda/lib/python3.9/site-packages/pymysql/connections.py:548\u001b[0m, in \u001b[0;36mConnection.query\u001b[0;34m(self, sql, unbuffered)\u001b[0m\n\u001b[1;32m    546\u001b[0m     sql \u001b[38;5;241m=\u001b[39m sql\u001b[38;5;241m.\u001b[39mencode(\u001b[38;5;28mself\u001b[39m\u001b[38;5;241m.\u001b[39mencoding, \u001b[38;5;124m\"\u001b[39m\u001b[38;5;124msurrogateescape\u001b[39m\u001b[38;5;124m\"\u001b[39m)\n\u001b[1;32m    547\u001b[0m \u001b[38;5;28mself\u001b[39m\u001b[38;5;241m.\u001b[39m_execute_command(COMMAND\u001b[38;5;241m.\u001b[39mCOM_QUERY, sql)\n\u001b[0;32m--> 548\u001b[0m \u001b[38;5;28mself\u001b[39m\u001b[38;5;241m.\u001b[39m_affected_rows \u001b[38;5;241m=\u001b[39m \u001b[38;5;28;43mself\u001b[39;49m\u001b[38;5;241;43m.\u001b[39;49m\u001b[43m_read_query_result\u001b[49m\u001b[43m(\u001b[49m\u001b[43munbuffered\u001b[49m\u001b[38;5;241;43m=\u001b[39;49m\u001b[43munbuffered\u001b[49m\u001b[43m)\u001b[49m\n\u001b[1;32m    549\u001b[0m \u001b[38;5;28;01mreturn\u001b[39;00m \u001b[38;5;28mself\u001b[39m\u001b[38;5;241m.\u001b[39m_affected_rows\n",
      "File \u001b[0;32m/opt/conda/lib/python3.9/site-packages/pymysql/connections.py:775\u001b[0m, in \u001b[0;36mConnection._read_query_result\u001b[0;34m(self, unbuffered)\u001b[0m\n\u001b[1;32m    773\u001b[0m \u001b[38;5;28;01melse\u001b[39;00m:\n\u001b[1;32m    774\u001b[0m     result \u001b[38;5;241m=\u001b[39m MySQLResult(\u001b[38;5;28mself\u001b[39m)\n\u001b[0;32m--> 775\u001b[0m     \u001b[43mresult\u001b[49m\u001b[38;5;241;43m.\u001b[39;49m\u001b[43mread\u001b[49m\u001b[43m(\u001b[49m\u001b[43m)\u001b[49m\n\u001b[1;32m    776\u001b[0m \u001b[38;5;28mself\u001b[39m\u001b[38;5;241m.\u001b[39m_result \u001b[38;5;241m=\u001b[39m result\n\u001b[1;32m    777\u001b[0m \u001b[38;5;28;01mif\u001b[39;00m result\u001b[38;5;241m.\u001b[39mserver_status \u001b[38;5;129;01mis\u001b[39;00m \u001b[38;5;129;01mnot\u001b[39;00m \u001b[38;5;28;01mNone\u001b[39;00m:\n",
      "File \u001b[0;32m/opt/conda/lib/python3.9/site-packages/pymysql/connections.py:1156\u001b[0m, in \u001b[0;36mMySQLResult.read\u001b[0;34m(self)\u001b[0m\n\u001b[1;32m   1154\u001b[0m \u001b[38;5;28;01mdef\u001b[39;00m \u001b[38;5;21mread\u001b[39m(\u001b[38;5;28mself\u001b[39m):\n\u001b[1;32m   1155\u001b[0m     \u001b[38;5;28;01mtry\u001b[39;00m:\n\u001b[0;32m-> 1156\u001b[0m         first_packet \u001b[38;5;241m=\u001b[39m \u001b[38;5;28;43mself\u001b[39;49m\u001b[38;5;241;43m.\u001b[39;49m\u001b[43mconnection\u001b[49m\u001b[38;5;241;43m.\u001b[39;49m\u001b[43m_read_packet\u001b[49m\u001b[43m(\u001b[49m\u001b[43m)\u001b[49m\n\u001b[1;32m   1158\u001b[0m         \u001b[38;5;28;01mif\u001b[39;00m first_packet\u001b[38;5;241m.\u001b[39mis_ok_packet():\n\u001b[1;32m   1159\u001b[0m             \u001b[38;5;28mself\u001b[39m\u001b[38;5;241m.\u001b[39m_read_ok_packet(first_packet)\n",
      "File \u001b[0;32m/opt/conda/lib/python3.9/site-packages/pymysql/connections.py:725\u001b[0m, in \u001b[0;36mConnection._read_packet\u001b[0;34m(self, packet_type)\u001b[0m\n\u001b[1;32m    723\u001b[0m     \u001b[38;5;28;01mif\u001b[39;00m \u001b[38;5;28mself\u001b[39m\u001b[38;5;241m.\u001b[39m_result \u001b[38;5;129;01mis\u001b[39;00m \u001b[38;5;129;01mnot\u001b[39;00m \u001b[38;5;28;01mNone\u001b[39;00m \u001b[38;5;129;01mand\u001b[39;00m \u001b[38;5;28mself\u001b[39m\u001b[38;5;241m.\u001b[39m_result\u001b[38;5;241m.\u001b[39munbuffered_active \u001b[38;5;129;01mis\u001b[39;00m \u001b[38;5;28;01mTrue\u001b[39;00m:\n\u001b[1;32m    724\u001b[0m         \u001b[38;5;28mself\u001b[39m\u001b[38;5;241m.\u001b[39m_result\u001b[38;5;241m.\u001b[39munbuffered_active \u001b[38;5;241m=\u001b[39m \u001b[38;5;28;01mFalse\u001b[39;00m\n\u001b[0;32m--> 725\u001b[0m     \u001b[43mpacket\u001b[49m\u001b[38;5;241;43m.\u001b[39;49m\u001b[43mraise_for_error\u001b[49m\u001b[43m(\u001b[49m\u001b[43m)\u001b[49m\n\u001b[1;32m    726\u001b[0m \u001b[38;5;28;01mreturn\u001b[39;00m packet\n",
      "File \u001b[0;32m/opt/conda/lib/python3.9/site-packages/pymysql/protocol.py:221\u001b[0m, in \u001b[0;36mMysqlPacket.raise_for_error\u001b[0;34m(self)\u001b[0m\n\u001b[1;32m    219\u001b[0m \u001b[38;5;28;01mif\u001b[39;00m DEBUG:\n\u001b[1;32m    220\u001b[0m     \u001b[38;5;28mprint\u001b[39m(\u001b[38;5;124m\"\u001b[39m\u001b[38;5;124merrno =\u001b[39m\u001b[38;5;124m\"\u001b[39m, errno)\n\u001b[0;32m--> 221\u001b[0m \u001b[43merr\u001b[49m\u001b[38;5;241;43m.\u001b[39;49m\u001b[43mraise_mysql_exception\u001b[49m\u001b[43m(\u001b[49m\u001b[38;5;28;43mself\u001b[39;49m\u001b[38;5;241;43m.\u001b[39;49m\u001b[43m_data\u001b[49m\u001b[43m)\u001b[49m\n",
      "File \u001b[0;32m/opt/conda/lib/python3.9/site-packages/pymysql/err.py:143\u001b[0m, in \u001b[0;36mraise_mysql_exception\u001b[0;34m(data)\u001b[0m\n\u001b[1;32m    141\u001b[0m \u001b[38;5;28;01mif\u001b[39;00m errorclass \u001b[38;5;129;01mis\u001b[39;00m \u001b[38;5;28;01mNone\u001b[39;00m:\n\u001b[1;32m    142\u001b[0m     errorclass \u001b[38;5;241m=\u001b[39m InternalError \u001b[38;5;28;01mif\u001b[39;00m errno \u001b[38;5;241m<\u001b[39m \u001b[38;5;241m1000\u001b[39m \u001b[38;5;28;01melse\u001b[39;00m OperationalError\n\u001b[0;32m--> 143\u001b[0m \u001b[38;5;28;01mraise\u001b[39;00m errorclass(errno, errval)\n",
      "\u001b[0;31mProgrammingError\u001b[0m: (1064, 'Not support use subquery in ON clause')"
     ]
    }
   ],
   "source": [
    "import pymysql\n",
    "import logging\n",
    "logging.basicConfig(level=logging.INFO)\n",
    "\n",
    "mysql_host = \"142.132.134.21\"\n",
    "mysql_prot = 9030\n",
    "mysql_user = \"dw\"\n",
    "mysql_pd = \"a64imrJwqKZc9jiU!*aCYi.xnh9*TVhhBmZi\"\n",
    "mysql_db = \"dw\"\n",
    "connection = pymysql.connect(host=mysql_host, user=mysql_user, password=mysql_pd, db=mysql_db, port=mysql_prot, charset='utf8')\n",
    "cursor = connection.cursor()\n",
    "logging.info(\"connection created\")\n",
    "\n",
    "tornado_contracts = [\n",
    "'0x47ce0c6ed5b0ce3d3a51fdb1c52dc66a7c3c2936',\n",
    "'0x910cbd523d972eb0a6f4cae4618ad62622b39dbf',\n",
    "'0xa160cdab225685da1d56aa342ad8841c3b53f291',\n",
    "'0x12d66f87a04a9e220743712ce6d9bb1b5616b8fc',\n",
    "'0x07687e702b410fa43f4cb4af7fa097918ffd2730',\n",
    "'0x23773e65ed146a459791799d01336db287f25334',\n",
    "'0x0836222f2b2b24a3f36f98668ed8f0b38d1a872f',\n",
    "'0x4736dcf1b7a3d580672cce6e7c65cd5cc9cfba9d',\n",
    "'0xfd8610d20aa15b7b2e3be39b396a1bc3516c7144',\n",
    "'0x169ad27a470d064dede56a2d3ff727986b15d52b',\n",
    "'0xd96f2b1c14db8458374d9aca76e26c3d18364307',\n",
    "'0xd4b88df4d29f5cedd6857912842cff3b20c8cfa3',\n",
    "'0xbb93e510bbcd0b7beb5a853875f9ec60275cf498',\n",
    "'0x610b717796ad172b316836ac95a2ffad065ceab4',\n",
    "'0x178169b423a011fff22b9e3f3abea13414ddd0f1',\n",
    "'0x03893a7c7463ae47d46bc7f091665f1893656003',\n",
    "'0x2717c5e28cf931547b621a5dddb772ab6a35b701',\n",
    "'0xd21be7248e0197ee08e0c20d4a96debdac3d20af'\n",
    "]\n",
    "tornado_contract_str = \",\".join('\"'+c+'\"' for c in tornado_contracts)\n",
    "\n",
    "min_block_sql = \"\"\"\n",
    "select min(block_number) as block_number\n",
    "from prod.blocks\n",
    "where `chain` = 'eth'\n",
    "and FROM_UNIXTIME(`timestamp`)> DATE_SUB(now(),INTERVAL 1 DAY)\n",
    "\"\"\"\n",
    "cursor.execute(min_block_sql)\n",
    "min_block = cursor.fetchone()[0]\n",
    "\n",
    "sql = \"\"\"\n",
    "insert into dw.dws_account_tag\n",
    "select account_address\n",
    "    ,'eth' as chain\n",
    "    ,'tornado_cash_sender' as reference_tag_name\n",
    "    ,rank() over(order by tornado_deposit_cnt desc) as rk\n",
    "    ,min_ts as first_generate_time\n",
    "    ,max_ts as last_generate_time\n",
    "    ,NOW() AS etl_time\n",
    "from\n",
    "(\n",
    "    select from_address as account_address\n",
    "        ,count(*) as tornado_deposit_cnt\n",
    "        ,min(transfer_time) as min_ts\n",
    "        ,max(transfer_time) as max_ts\n",
    "    from\n",
    "    (\n",
    "        select transaction_hash\n",
    "            ,sum(case when from_address = \"0xd90e2f925da726b50c4ed8d0fb90ad053324f31b\" then 1 else 0 end) as deposit_trf_cnt\n",
    "            ,sum(case when from_address in ({tornado_contracts})\n",
    "                       and to_address <> '0xd90e2f925da726b50c4ed8d0fb90ad053324f31b' \n",
    "                 then 1 else 0 end) as withdraw_trf_cnt\n",
    "        from dw.dwb_token_transfer_detail_eth_hi\n",
    "        where \n",
    "        (\n",
    "        to_address in ({tornado_contracts})\n",
    "        or from_address in ({tornado_contracts})\n",
    "        )\n",
    "        and block_number > {min_block}\n",
    "        group by 1\n",
    "    ) as a\n",
    "    left join dw.dwb_token_transfer_detail_eth_hi as b\n",
    "    on a.transaction_hash = b.transaction_hash\n",
    "    and b.to_address = '0x0000000000000000000000000000000000000000'\n",
    "    and b.block_number > {min_block}\n",
    "    where a.deposit_trf_cnt > 0\n",
    "    and a.withdraw_trf_cnt = 0\n",
    "    group by 1\n",
    ") as t\n",
    "\"\"\".format(\n",
    "    tornado_contracts=tornado_contract_str,\n",
    "    min_block=min_block\n",
    ")\n",
    "# print(sql)\n",
    "cursor.execute(sql)"
   ]
  }
 ],
 "metadata": {
  "kernelspec": {
   "display_name": "Python 3 (ipykernel)",
   "language": "python",
   "name": "python3"
  },
  "language_info": {
   "codemirror_mode": {
    "name": "ipython",
    "version": 3
   },
   "file_extension": ".py",
   "mimetype": "text/x-python",
   "name": "python",
   "nbconvert_exporter": "python",
   "pygments_lexer": "ipython3",
   "version": "3.9.12"
  }
 },
 "nbformat": 4,
 "nbformat_minor": 5
}
