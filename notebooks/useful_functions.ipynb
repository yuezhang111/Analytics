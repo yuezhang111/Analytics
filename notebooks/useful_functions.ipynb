{
 "cells": [
  {
   "cell_type": "code",
   "execution_count": 1,
   "id": "2ee61789-7fed-4d7c-90b4-da655449b6d8",
   "metadata": {},
   "outputs": [
    {
     "ename": "ModuleNotFoundError",
     "evalue": "No module named 'pymysql'",
     "output_type": "error",
     "traceback": [
      "\u001b[0;31m---------------------------------------------------------------------------\u001b[0m",
      "\u001b[0;31mModuleNotFoundError\u001b[0m                       Traceback (most recent call last)",
      "Cell \u001b[0;32mIn [1], line 2\u001b[0m\n\u001b[1;32m      1\u001b[0m \u001b[39m# doris connection\u001b[39;00m\n\u001b[0;32m----> 2\u001b[0m \u001b[39mimport\u001b[39;00m \u001b[39mpymysql\u001b[39;00m\n\u001b[1;32m      3\u001b[0m \u001b[39mimport\u001b[39;00m \u001b[39mlogging\u001b[39;00m\n\u001b[1;32m      4\u001b[0m logging\u001b[39m.\u001b[39mbasicConfig(level\u001b[39m=\u001b[39mlogging\u001b[39m.\u001b[39mINFO)\n",
      "\u001b[0;31mModuleNotFoundError\u001b[0m: No module named 'pymysql'"
     ]
    }
   ],
   "source": [
    "# doris connection\n",
    "import pymysql\n",
    "import logging\n",
    "logging.basicConfig(level=logging.INFO)\n",
    "\n",
    "mysql_host = \"142.132.134.21\"\n",
    "mysql_prot = 9030\n",
    "mysql_user = \"dw\"\n",
    "mysql_pd = \"a64imrJwqKZc9jiU!*aCYi.xnh9*TVhhBmZi\"\n",
    "mysql_db = \"dw\"\n",
    "connection = pymysql.connect(host=mysql_host, user=mysql_user, password=mysql_pd, db=mysql_db, port=mysql_prot, charset='utf8')\n",
    "cursor = connection.cursor()\n",
    "logging.info(\"connection created\")\n",
    "\n",
    "# sql = \"\"\" select * from dw.dim_date_di limit 10 \"\"\"\n",
    "# cursor.execute(sql)\n",
    "\n",
    "def getSqlResult(sql):\n",
    "    cursor.execute(sql)\n",
    "    res_rows = cursor.fetchall()\n",
    "    df = pd.DataFrame(res_rows)\n",
    "    return df"
   ]
  },
  {
   "cell_type": "code",
   "execution_count": 2,
   "id": "f5675387-a427-4e18-b662-d3bf1bfd55e2",
   "metadata": {},
   "outputs": [],
   "source": [
    "# 时间衰减函数\n",
    "\n",
    "# sql query\n",
    "# exp(-(ln(0.8/0.2)/30) * (datediff(now(),date(created_at))-ln(0.8)/(ln(0.8/0.2)/30)))\n",
    "\n",
    "# python code\n",
    "import numpy as np\n",
    "def exponential_decay(t, init=0.8, m=30, finish=0.2):\n",
    "    alpha = np.log(init / finish) / m\n",
    "    l = - np.log(init) / alpha\n",
    "    decay = np.exp(-alpha * (t + l))\n",
    "    return decay"
   ]
  },
  {
   "cell_type": "code",
   "execution_count": 4,
   "id": "853d78f2-15da-49bb-b249-cdec93d3875b",
   "metadata": {},
   "outputs": [
    {
     "data": {
      "text/plain": [
       "2.164285714285714"
      ]
     },
     "execution_count": 4,
     "metadata": {},
     "output_type": "execute_result"
    }
   ],
   "source": []
  },
  {
   "cell_type": "code",
   "execution_count": 5,
   "id": "1136b8d7-df67-47e1-b1c7-d51ecd03a7d2",
   "metadata": {},
   "outputs": [
    {
     "data": {
      "text/plain": [
       "0.7214285714285715"
      ]
     },
     "execution_count": 5,
     "metadata": {},
     "output_type": "execute_result"
    }
   ],
   "source": []
  },
  {
   "cell_type": "code",
   "execution_count": null,
   "id": "12b273a9-1955-46d4-b4a3-bc9fc589be37",
   "metadata": {},
   "outputs": [],
   "source": []
  }
 ],
 "metadata": {
  "kernelspec": {
   "display_name": "Python 3.9.6 64-bit",
   "language": "python",
   "name": "python3"
  },
  "language_info": {
   "codemirror_mode": {
    "name": "ipython",
    "version": 3
   },
   "file_extension": ".py",
   "mimetype": "text/x-python",
   "name": "python",
   "nbconvert_exporter": "python",
   "pygments_lexer": "ipython3",
   "version": "3.9.6"
  },
  "toc-autonumbering": false,
  "toc-showmarkdowntxt": false,
  "toc-showtags": false,
  "vscode": {
   "interpreter": {
    "hash": "31f2aee4e71d21fbe5cf8b01ff0e069b9275f58929596ceb00d14d90e3e16cd6"
   }
  }
 },
 "nbformat": 4,
 "nbformat_minor": 5
}
